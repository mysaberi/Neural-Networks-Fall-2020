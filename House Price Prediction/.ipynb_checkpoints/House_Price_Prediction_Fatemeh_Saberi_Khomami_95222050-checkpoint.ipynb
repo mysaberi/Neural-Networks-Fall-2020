{
 "cells": [
  {
   "cell_type": "markdown",
   "metadata": {},
   "source": [
    "### Ckecking the GPU :"
   ]
  },
  {
   "cell_type": "code",
   "execution_count": 5,
   "metadata": {},
   "outputs": [],
   "source": [
    "import tensorflow as tf "
   ]
  },
  {
   "cell_type": "code",
   "execution_count": 6,
   "metadata": {},
   "outputs": [
    {
     "data": {
      "text/plain": [
       "True"
      ]
     },
     "execution_count": 6,
     "metadata": {},
     "output_type": "execute_result"
    }
   ],
   "source": [
    "tf.test.is_built_with_cuda()"
   ]
  },
  {
   "cell_type": "code",
   "execution_count": 7,
   "metadata": {
    "scrolled": true
   },
   "outputs": [
    {
     "name": "stdout",
     "output_type": "stream",
     "text": [
      "Found GPU at: /device:GPU:0\n"
     ]
    }
   ],
   "source": [
    "device_name = tf.test.gpu_device_name()\n",
    "if device_name != '/device:GPU:0':\n",
    "  raise SystemError('GPU device not found')\n",
    "print('Found GPU at: {}'.format(device_name))"
   ]
  },
  {
   "cell_type": "code",
   "execution_count": 8,
   "metadata": {},
   "outputs": [
    {
     "name": "stdout",
     "output_type": "stream",
     "text": [
      "Num GPUs Available:  1\n"
     ]
    }
   ],
   "source": [
    "print(\"Num GPUs Available: \", len(tf.config.experimental.list_physical_devices('GPU')))"
   ]
  },
  {
   "cell_type": "markdown",
   "metadata": {},
   "source": [
    "\n",
    "## Import required libraries :"
   ]
  },
  {
   "cell_type": "code",
   "execution_count": 9,
   "metadata": {},
   "outputs": [
    {
     "name": "stdout",
     "output_type": "stream",
     "text": [
      "2.1.0\n"
     ]
    }
   ],
   "source": [
    "import numpy as np\n",
    "import pandas as pd\n",
    "import matplotlib.pyplot as plt\n",
    "import tensorflow as tf\n",
    "from sklearn import preprocessing\n",
    "from sklearn.preprocessing import MinMaxScaler\n",
    "print(tf.__version__)\n",
    "\n",
    "%matplotlib inline"
   ]
  },
  {
   "cell_type": "markdown",
   "metadata": {},
   "source": [
    "## Import data :"
   ]
  },
  {
   "cell_type": "code",
   "execution_count": 10,
   "metadata": {
    "scrolled": true
   },
   "outputs": [
    {
     "data": {
      "text/html": [
       "<div>\n",
       "<style scoped>\n",
       "    .dataframe tbody tr th:only-of-type {\n",
       "        vertical-align: middle;\n",
       "    }\n",
       "\n",
       "    .dataframe tbody tr th {\n",
       "        vertical-align: top;\n",
       "    }\n",
       "\n",
       "    .dataframe thead th {\n",
       "        text-align: right;\n",
       "    }\n",
       "</style>\n",
       "<table border=\"1\" class=\"dataframe\">\n",
       "  <thead>\n",
       "    <tr style=\"text-align: right;\">\n",
       "      <th></th>\n",
       "      <th>image_id</th>\n",
       "      <th>street</th>\n",
       "      <th>city</th>\n",
       "      <th>n_city</th>\n",
       "      <th>bed</th>\n",
       "      <th>bath</th>\n",
       "      <th>sqft</th>\n",
       "      <th>price</th>\n",
       "    </tr>\n",
       "  </thead>\n",
       "  <tbody>\n",
       "    <tr>\n",
       "      <th>0</th>\n",
       "      <td>0</td>\n",
       "      <td>1317 Van Buren Avenue</td>\n",
       "      <td>Salton City, CA</td>\n",
       "      <td>317</td>\n",
       "      <td>3</td>\n",
       "      <td>2.0</td>\n",
       "      <td>1560</td>\n",
       "      <td>201900</td>\n",
       "    </tr>\n",
       "    <tr>\n",
       "      <th>1</th>\n",
       "      <td>1</td>\n",
       "      <td>124 C Street W</td>\n",
       "      <td>Brawley, CA</td>\n",
       "      <td>48</td>\n",
       "      <td>3</td>\n",
       "      <td>2.0</td>\n",
       "      <td>713</td>\n",
       "      <td>228500</td>\n",
       "    </tr>\n",
       "    <tr>\n",
       "      <th>2</th>\n",
       "      <td>2</td>\n",
       "      <td>2304 Clark Road</td>\n",
       "      <td>Imperial, CA</td>\n",
       "      <td>152</td>\n",
       "      <td>3</td>\n",
       "      <td>1.0</td>\n",
       "      <td>800</td>\n",
       "      <td>273950</td>\n",
       "    </tr>\n",
       "    <tr>\n",
       "      <th>3</th>\n",
       "      <td>3</td>\n",
       "      <td>755 Brawley Avenue</td>\n",
       "      <td>Brawley, CA</td>\n",
       "      <td>48</td>\n",
       "      <td>3</td>\n",
       "      <td>1.0</td>\n",
       "      <td>1082</td>\n",
       "      <td>350000</td>\n",
       "    </tr>\n",
       "    <tr>\n",
       "      <th>4</th>\n",
       "      <td>4</td>\n",
       "      <td>2207 R Carrillo Court</td>\n",
       "      <td>Calexico, CA</td>\n",
       "      <td>55</td>\n",
       "      <td>4</td>\n",
       "      <td>3.0</td>\n",
       "      <td>2547</td>\n",
       "      <td>385100</td>\n",
       "    </tr>\n",
       "  </tbody>\n",
       "</table>\n",
       "</div>"
      ],
      "text/plain": [
       "   image_id                 street             city  n_city  bed  bath  sqft  \\\n",
       "0         0  1317 Van Buren Avenue  Salton City, CA     317    3   2.0  1560   \n",
       "1         1         124 C Street W      Brawley, CA      48    3   2.0   713   \n",
       "2         2        2304 Clark Road     Imperial, CA     152    3   1.0   800   \n",
       "3         3     755 Brawley Avenue      Brawley, CA      48    3   1.0  1082   \n",
       "4         4  2207 R Carrillo Court     Calexico, CA      55    4   3.0  2547   \n",
       "\n",
       "    price  \n",
       "0  201900  \n",
       "1  228500  \n",
       "2  273950  \n",
       "3  350000  \n",
       "4  385100  "
      ]
     },
     "execution_count": 10,
     "metadata": {},
     "output_type": "execute_result"
    }
   ],
   "source": [
    "df=pd.read_csv(\"C:/Users/Saberi/Downloads/desc.csv\")\n",
    "df.head()\n",
    "clean_df=df.copy()\n",
    "clean_df.head()"
   ]
  },
  {
   "cell_type": "code",
   "execution_count": 11,
   "metadata": {},
   "outputs": [
    {
     "data": {
      "text/plain": [
       "(15474, 8)"
      ]
     },
     "execution_count": 11,
     "metadata": {},
     "output_type": "execute_result"
    }
   ],
   "source": [
    "clean_df.shape"
   ]
  },
  {
   "cell_type": "markdown",
   "metadata": {},
   "source": [
    "## Cleaning the data :"
   ]
  },
  {
   "cell_type": "code",
   "execution_count": 12,
   "metadata": {},
   "outputs": [
    {
     "data": {
      "text/plain": [
       "image_id    15474\n",
       "street      12401\n",
       "city          415\n",
       "n_city        415\n",
       "bed            12\n",
       "bath           32\n",
       "sqft         3571\n",
       "price        2320\n",
       "dtype: int64"
      ]
     },
     "execution_count": 12,
     "metadata": {},
     "output_type": "execute_result"
    }
   ],
   "source": [
    "clean_df.nunique()"
   ]
  },
  {
   "cell_type": "markdown",
   "metadata": {},
   "source": [
    "*As you can see, we have 12401 unique streets containing zip codes. In order to reduces the unique numbers of streets, we'll omid the zip codes from addresses.*"
   ]
  },
  {
   "cell_type": "markdown",
   "metadata": {},
   "source": [
    "### Omiting zip codes :"
   ]
  },
  {
   "cell_type": "code",
   "execution_count": 13,
   "metadata": {},
   "outputs": [
    {
     "data": {
      "text/plain": [
       "image_id    15474\n",
       "street      10130\n",
       "city          415\n",
       "n_city        415\n",
       "bed            12\n",
       "bath           32\n",
       "sqft         3571\n",
       "price        2320\n",
       "dtype: int64"
      ]
     },
     "execution_count": 13,
     "metadata": {},
     "output_type": "execute_result"
    }
   ],
   "source": [
    "street=clean_df['street'].copy()\n",
    "for j in range(len(street)):\n",
    "  res = ''.join([i for i in clean_df['street'][j] if not i.isdigit()])\n",
    "  street[j]=res\n",
    "clean_df['street']=street\n",
    "clean_df.nunique()"
   ]
  },
  {
   "cell_type": "markdown",
   "metadata": {},
   "source": [
    "*We successfully reduced the unique numbers of streets from 12401 to 10130.*"
   ]
  },
  {
   "cell_type": "code",
   "execution_count": 14,
   "metadata": {},
   "outputs": [
    {
     "name": "stdout",
     "output_type": "stream",
     "text": [
      "<class 'pandas.core.frame.DataFrame'>\n",
      "RangeIndex: 15474 entries, 0 to 15473\n",
      "Data columns (total 8 columns):\n",
      " #   Column    Non-Null Count  Dtype  \n",
      "---  ------    --------------  -----  \n",
      " 0   image_id  15474 non-null  int64  \n",
      " 1   street    15474 non-null  object \n",
      " 2   city      15474 non-null  object \n",
      " 3   n_city    15474 non-null  int64  \n",
      " 4   bed       15474 non-null  int64  \n",
      " 5   bath      15474 non-null  float64\n",
      " 6   sqft      15474 non-null  int64  \n",
      " 7   price     15474 non-null  int64  \n",
      "dtypes: float64(1), int64(5), object(2)\n",
      "memory usage: 967.2+ KB\n"
     ]
    }
   ],
   "source": [
    "clean_df.info()"
   ]
  },
  {
   "cell_type": "markdown",
   "metadata": {},
   "source": [
    "*As you can see we have no null data*"
   ]
  },
  {
   "cell_type": "markdown",
   "metadata": {},
   "source": [
    "### In this section we are going to use a meta data to cluster cities into counties (major cities) :"
   ]
  },
  {
   "cell_type": "code",
   "execution_count": 15,
   "metadata": {},
   "outputs": [
    {
     "data": {
      "text/html": [
       "<div>\n",
       "<style scoped>\n",
       "    .dataframe tbody tr th:only-of-type {\n",
       "        vertical-align: middle;\n",
       "    }\n",
       "\n",
       "    .dataframe tbody tr th {\n",
       "        vertical-align: top;\n",
       "    }\n",
       "\n",
       "    .dataframe thead th {\n",
       "        text-align: right;\n",
       "    }\n",
       "</style>\n",
       "<table border=\"1\" class=\"dataframe\">\n",
       "  <thead>\n",
       "    <tr style=\"text-align: right;\">\n",
       "      <th></th>\n",
       "      <th>image_id</th>\n",
       "      <th>street</th>\n",
       "      <th>city</th>\n",
       "      <th>n_city</th>\n",
       "      <th>bed</th>\n",
       "      <th>bath</th>\n",
       "      <th>sqft</th>\n",
       "      <th>price</th>\n",
       "    </tr>\n",
       "  </thead>\n",
       "  <tbody>\n",
       "    <tr>\n",
       "      <th>0</th>\n",
       "      <td>0</td>\n",
       "      <td>Van Buren Avenue</td>\n",
       "      <td>SALTON CITY</td>\n",
       "      <td>317</td>\n",
       "      <td>3</td>\n",
       "      <td>2.0</td>\n",
       "      <td>1560</td>\n",
       "      <td>201900</td>\n",
       "    </tr>\n",
       "    <tr>\n",
       "      <th>1</th>\n",
       "      <td>1</td>\n",
       "      <td>C Street W</td>\n",
       "      <td>BRAWLEY</td>\n",
       "      <td>48</td>\n",
       "      <td>3</td>\n",
       "      <td>2.0</td>\n",
       "      <td>713</td>\n",
       "      <td>228500</td>\n",
       "    </tr>\n",
       "    <tr>\n",
       "      <th>2</th>\n",
       "      <td>2</td>\n",
       "      <td>Clark Road</td>\n",
       "      <td>IMPERIAL</td>\n",
       "      <td>152</td>\n",
       "      <td>3</td>\n",
       "      <td>1.0</td>\n",
       "      <td>800</td>\n",
       "      <td>273950</td>\n",
       "    </tr>\n",
       "    <tr>\n",
       "      <th>3</th>\n",
       "      <td>3</td>\n",
       "      <td>Brawley Avenue</td>\n",
       "      <td>BRAWLEY</td>\n",
       "      <td>48</td>\n",
       "      <td>3</td>\n",
       "      <td>1.0</td>\n",
       "      <td>1082</td>\n",
       "      <td>350000</td>\n",
       "    </tr>\n",
       "  </tbody>\n",
       "</table>\n",
       "</div>"
      ],
      "text/plain": [
       "   image_id             street         city  n_city  bed  bath  sqft   price\n",
       "0         0   Van Buren Avenue  SALTON CITY     317    3   2.0  1560  201900\n",
       "1         1         C Street W      BRAWLEY      48    3   2.0   713  228500\n",
       "2         2         Clark Road     IMPERIAL     152    3   1.0   800  273950\n",
       "3         3     Brawley Avenue      BRAWLEY      48    3   1.0  1082  350000"
      ]
     },
     "execution_count": 15,
     "metadata": {},
     "output_type": "execute_result"
    }
   ],
   "source": [
    "### preparing the 'city' column\n",
    "\n",
    "city=clean_df['city'].copy()\n",
    "\n",
    "clean_df['city']=city.str.split(',', expand=True)[0]\n",
    "clean_df['city']=clean_df['city'].apply(lambda x : x.upper())\n",
    "clean_df.head(4)"
   ]
  },
  {
   "cell_type": "markdown",
   "metadata": {},
   "source": [
    "#### Importing meta data :"
   ]
  },
  {
   "cell_type": "code",
   "execution_count": 16,
   "metadata": {},
   "outputs": [
    {
     "data": {
      "text/html": [
       "<div>\n",
       "<style scoped>\n",
       "    .dataframe tbody tr th:only-of-type {\n",
       "        vertical-align: middle;\n",
       "    }\n",
       "\n",
       "    .dataframe tbody tr th {\n",
       "        vertical-align: top;\n",
       "    }\n",
       "\n",
       "    .dataframe thead th {\n",
       "        text-align: right;\n",
       "    }\n",
       "</style>\n",
       "<table border=\"1\" class=\"dataframe\">\n",
       "  <thead>\n",
       "    <tr style=\"text-align: right;\">\n",
       "      <th></th>\n",
       "      <th>City</th>\n",
       "      <th>County</th>\n",
       "    </tr>\n",
       "  </thead>\n",
       "  <tbody>\n",
       "    <tr>\n",
       "      <th>0</th>\n",
       "      <td>100 PALMS</td>\n",
       "      <td>IMPERIAL</td>\n",
       "    </tr>\n",
       "    <tr>\n",
       "      <th>1</th>\n",
       "      <td>1000 PALMS</td>\n",
       "      <td>RIVERSIDE</td>\n",
       "    </tr>\n",
       "    <tr>\n",
       "      <th>2</th>\n",
       "      <td>1ST INTERSTATE BK</td>\n",
       "      <td>LOS ANGELES</td>\n",
       "    </tr>\n",
       "    <tr>\n",
       "      <th>3</th>\n",
       "      <td>29 PALMS</td>\n",
       "      <td>SAN BERNARDINO</td>\n",
       "    </tr>\n",
       "    <tr>\n",
       "      <th>4</th>\n",
       "      <td>29 PALMS MCB</td>\n",
       "      <td>SAN BERNARDINO</td>\n",
       "    </tr>\n",
       "  </tbody>\n",
       "</table>\n",
       "</div>"
      ],
      "text/plain": [
       "                City          County\n",
       "0          100 PALMS        IMPERIAL\n",
       "1         1000 PALMS       RIVERSIDE\n",
       "2  1ST INTERSTATE BK     LOS ANGELES\n",
       "3           29 PALMS  SAN BERNARDINO\n",
       "4       29 PALMS MCB  SAN BERNARDINO"
      ]
     },
     "execution_count": 16,
     "metadata": {},
     "output_type": "execute_result"
    }
   ],
   "source": [
    "# A website who has all the California's towns and cities with the corresponding County \n",
    "\n",
    "url = 'https://www.corragroup.com/california-county-lookup.html'\n",
    "\n",
    "dfs = pd.read_html(url)\n",
    "                                                                                                           \n",
    "dfc=pd.DataFrame(dfs[0])\n",
    "\n",
    "dfc=dfc[['City','County']]\n",
    "\n",
    "dfc.head()"
   ]
  },
  {
   "cell_type": "code",
   "execution_count": 17,
   "metadata": {},
   "outputs": [
    {
     "data": {
      "text/plain": [
       "City      2518\n",
       "County      58\n",
       "dtype: int64"
      ]
     },
     "execution_count": 17,
     "metadata": {},
     "output_type": "execute_result"
    }
   ],
   "source": [
    "# In California we have 58 counties and 2518 small cities\n",
    "dfc.nunique()"
   ]
  },
  {
   "cell_type": "code",
   "execution_count": 18,
   "metadata": {},
   "outputs": [
    {
     "data": {
      "text/plain": [
       "image_id    15474\n",
       "street      10130\n",
       "city          415\n",
       "n_city        415\n",
       "bed            12\n",
       "bath           32\n",
       "sqft         3571\n",
       "price        2320\n",
       "dtype: int64"
      ]
     },
     "execution_count": 18,
     "metadata": {},
     "output_type": "execute_result"
    }
   ],
   "source": [
    "#in the house price data frame we have 415 small cities \n",
    "clean_df.nunique()"
   ]
  },
  {
   "cell_type": "markdown",
   "metadata": {},
   "source": [
    "***Our plan is to specify each city's corresponding county.***"
   ]
  },
  {
   "cell_type": "code",
   "execution_count": 19,
   "metadata": {},
   "outputs": [],
   "source": [
    "#creating a helper boolian variable named country_bool \n",
    "my_city=pd.DataFrame(clean_df['city'])\n",
    "cal_city=dfc['City'].tolist()\n",
    "\n",
    "clean_df['County_bool']=my_city.isin(cal_city)\n"
   ]
  },
  {
   "cell_type": "code",
   "execution_count": 20,
   "metadata": {},
   "outputs": [
    {
     "data": {
      "text/html": [
       "<div>\n",
       "<style scoped>\n",
       "    .dataframe tbody tr th:only-of-type {\n",
       "        vertical-align: middle;\n",
       "    }\n",
       "\n",
       "    .dataframe tbody tr th {\n",
       "        vertical-align: top;\n",
       "    }\n",
       "\n",
       "    .dataframe thead th {\n",
       "        text-align: right;\n",
       "    }\n",
       "</style>\n",
       "<table border=\"1\" class=\"dataframe\">\n",
       "  <thead>\n",
       "    <tr style=\"text-align: right;\">\n",
       "      <th></th>\n",
       "      <th>image_id</th>\n",
       "      <th>street</th>\n",
       "      <th>city</th>\n",
       "      <th>n_city</th>\n",
       "      <th>bed</th>\n",
       "      <th>bath</th>\n",
       "      <th>sqft</th>\n",
       "      <th>price</th>\n",
       "      <th>County_bool</th>\n",
       "    </tr>\n",
       "  </thead>\n",
       "  <tbody>\n",
       "    <tr>\n",
       "      <th>0</th>\n",
       "      <td>0</td>\n",
       "      <td>Van Buren Avenue</td>\n",
       "      <td>SALTON CITY</td>\n",
       "      <td>317</td>\n",
       "      <td>3</td>\n",
       "      <td>2.0</td>\n",
       "      <td>1560</td>\n",
       "      <td>201900</td>\n",
       "      <td>True</td>\n",
       "    </tr>\n",
       "    <tr>\n",
       "      <th>1</th>\n",
       "      <td>1</td>\n",
       "      <td>C Street W</td>\n",
       "      <td>BRAWLEY</td>\n",
       "      <td>48</td>\n",
       "      <td>3</td>\n",
       "      <td>2.0</td>\n",
       "      <td>713</td>\n",
       "      <td>228500</td>\n",
       "      <td>True</td>\n",
       "    </tr>\n",
       "    <tr>\n",
       "      <th>2</th>\n",
       "      <td>2</td>\n",
       "      <td>Clark Road</td>\n",
       "      <td>IMPERIAL</td>\n",
       "      <td>152</td>\n",
       "      <td>3</td>\n",
       "      <td>1.0</td>\n",
       "      <td>800</td>\n",
       "      <td>273950</td>\n",
       "      <td>True</td>\n",
       "    </tr>\n",
       "    <tr>\n",
       "      <th>3</th>\n",
       "      <td>3</td>\n",
       "      <td>Brawley Avenue</td>\n",
       "      <td>BRAWLEY</td>\n",
       "      <td>48</td>\n",
       "      <td>3</td>\n",
       "      <td>1.0</td>\n",
       "      <td>1082</td>\n",
       "      <td>350000</td>\n",
       "      <td>True</td>\n",
       "    </tr>\n",
       "  </tbody>\n",
       "</table>\n",
       "</div>"
      ],
      "text/plain": [
       "   image_id             street         city  n_city  bed  bath  sqft   price  \\\n",
       "0         0   Van Buren Avenue  SALTON CITY     317    3   2.0  1560  201900   \n",
       "1         1         C Street W      BRAWLEY      48    3   2.0   713  228500   \n",
       "2         2         Clark Road     IMPERIAL     152    3   1.0   800  273950   \n",
       "3         3     Brawley Avenue      BRAWLEY      48    3   1.0  1082  350000   \n",
       "\n",
       "   County_bool  \n",
       "0         True  \n",
       "1         True  \n",
       "2         True  \n",
       "3         True  "
      ]
     },
     "execution_count": 20,
     "metadata": {},
     "output_type": "execute_result"
    }
   ],
   "source": [
    "clean_df.head(4)"
   ]
  },
  {
   "cell_type": "markdown",
   "metadata": {},
   "source": [
    "*Extract the corresponding counties of each city from the meta-data :*"
   ]
  },
  {
   "cell_type": "code",
   "execution_count": 21,
   "metadata": {},
   "outputs": [
    {
     "data": {
      "text/html": [
       "<div>\n",
       "<style scoped>\n",
       "    .dataframe tbody tr th:only-of-type {\n",
       "        vertical-align: middle;\n",
       "    }\n",
       "\n",
       "    .dataframe tbody tr th {\n",
       "        vertical-align: top;\n",
       "    }\n",
       "\n",
       "    .dataframe thead th {\n",
       "        text-align: right;\n",
       "    }\n",
       "</style>\n",
       "<table border=\"1\" class=\"dataframe\">\n",
       "  <thead>\n",
       "    <tr style=\"text-align: right;\">\n",
       "      <th></th>\n",
       "      <th>image_id</th>\n",
       "      <th>street</th>\n",
       "      <th>city</th>\n",
       "      <th>n_city</th>\n",
       "      <th>bed</th>\n",
       "      <th>bath</th>\n",
       "      <th>sqft</th>\n",
       "      <th>price</th>\n",
       "      <th>County_bool</th>\n",
       "      <th>county</th>\n",
       "    </tr>\n",
       "  </thead>\n",
       "  <tbody>\n",
       "    <tr>\n",
       "      <th>0</th>\n",
       "      <td>0</td>\n",
       "      <td>Van Buren Avenue</td>\n",
       "      <td>SALTON CITY</td>\n",
       "      <td>317</td>\n",
       "      <td>3</td>\n",
       "      <td>2.0</td>\n",
       "      <td>1560</td>\n",
       "      <td>201900</td>\n",
       "      <td>True</td>\n",
       "      <td>IMPERIAL</td>\n",
       "    </tr>\n",
       "    <tr>\n",
       "      <th>1</th>\n",
       "      <td>1</td>\n",
       "      <td>C Street W</td>\n",
       "      <td>BRAWLEY</td>\n",
       "      <td>48</td>\n",
       "      <td>3</td>\n",
       "      <td>2.0</td>\n",
       "      <td>713</td>\n",
       "      <td>228500</td>\n",
       "      <td>True</td>\n",
       "      <td>IMPERIAL</td>\n",
       "    </tr>\n",
       "    <tr>\n",
       "      <th>2</th>\n",
       "      <td>2</td>\n",
       "      <td>Clark Road</td>\n",
       "      <td>IMPERIAL</td>\n",
       "      <td>152</td>\n",
       "      <td>3</td>\n",
       "      <td>1.0</td>\n",
       "      <td>800</td>\n",
       "      <td>273950</td>\n",
       "      <td>True</td>\n",
       "      <td>IMPERIAL</td>\n",
       "    </tr>\n",
       "    <tr>\n",
       "      <th>3</th>\n",
       "      <td>3</td>\n",
       "      <td>Brawley Avenue</td>\n",
       "      <td>BRAWLEY</td>\n",
       "      <td>48</td>\n",
       "      <td>3</td>\n",
       "      <td>1.0</td>\n",
       "      <td>1082</td>\n",
       "      <td>350000</td>\n",
       "      <td>True</td>\n",
       "      <td>IMPERIAL</td>\n",
       "    </tr>\n",
       "  </tbody>\n",
       "</table>\n",
       "</div>"
      ],
      "text/plain": [
       "   image_id             street         city  n_city  bed  bath  sqft   price  \\\n",
       "0         0   Van Buren Avenue  SALTON CITY     317    3   2.0  1560  201900   \n",
       "1         1         C Street W      BRAWLEY      48    3   2.0   713  228500   \n",
       "2         2         Clark Road     IMPERIAL     152    3   1.0   800  273950   \n",
       "3         3     Brawley Avenue      BRAWLEY      48    3   1.0  1082  350000   \n",
       "\n",
       "   County_bool    county  \n",
       "0         True  IMPERIAL  \n",
       "1         True  IMPERIAL  \n",
       "2         True  IMPERIAL  \n",
       "3         True  IMPERIAL  "
      ]
     },
     "execution_count": 21,
     "metadata": {},
     "output_type": "execute_result"
    }
   ],
   "source": [
    "county=[]\n",
    "for i in range(len(clean_df)):\n",
    "  if clean_df['County_bool'][i]:\n",
    "    county.append(np.array( dfc['County'][ dfc['City']==clean_df['city'][i] ] )[0])\n",
    "  else:\n",
    "    county.append('null')\n",
    "\n",
    "clean_df['county']=county\n",
    "clean_df.head(4)\n"
   ]
  },
  {
   "cell_type": "markdown",
   "metadata": {},
   "source": [
    "*Checking the new county variable :*"
   ]
  },
  {
   "cell_type": "code",
   "execution_count": 22,
   "metadata": {},
   "outputs": [
    {
     "data": {
      "text/plain": [
       "RIVERSIDE          3134\n",
       "LOS ANGELES        2732\n",
       "SAN DIEGO          2705\n",
       "SAN BERNARDINO     2579\n",
       "ORANGE             1675\n",
       "SAN LUIS OBISPO     957\n",
       "VENTURA             951\n",
       "KERN                316\n",
       "null                256\n",
       "SANTA BARBARA       149\n",
       "IMPERIAL             20\n",
       "Name: county, dtype: int64"
      ]
     },
     "execution_count": 22,
     "metadata": {},
     "output_type": "execute_result"
    }
   ],
   "source": [
    "# There are 256 null values and it means that the cooresponding counties of some cities were not in the meta-data\n",
    "clean_df['county'].value_counts()"
   ]
  },
  {
   "cell_type": "markdown",
   "metadata": {},
   "source": [
    "*As you can see, we have 256 null values, and we should modify them.*"
   ]
  },
  {
   "cell_type": "markdown",
   "metadata": {},
   "source": [
    "*Let's check which cities' corresponding county was not found on the meta-data :*"
   ]
  },
  {
   "cell_type": "code",
   "execution_count": 23,
   "metadata": {},
   "outputs": [
    {
     "data": {
      "text/plain": [
       "12"
      ]
     },
     "execution_count": 23,
     "metadata": {},
     "output_type": "execute_result"
    }
   ],
   "source": [
    "#number of cities that we failed to allocate a county to\n",
    "\n",
    "clean_df[clean_df['county']=='null']['city'].nunique()"
   ]
  },
  {
   "cell_type": "code",
   "execution_count": 24,
   "metadata": {},
   "outputs": [
    {
     "data": {
      "text/plain": [
       "array(['VALLEY GLEN', 'VAL VERDE', 'LAKE BALBOA', 'LAKEVIEW TERRACE',\n",
       "       'LADERA RANCH', 'NORTH TUSTIN', 'LAGUNA WOODS', 'WHITEWATER',\n",
       "       'OAK GLEN', 'OAK HILLS', 'EL MIRAGE', 'LA CONCHITA'], dtype=object)"
      ]
     },
     "execution_count": 24,
     "metadata": {},
     "output_type": "execute_result"
    }
   ],
   "source": [
    "#list of cities that we failed to allocate a county to\n",
    "clean_df[clean_df['county']=='null']['city'].unique()"
   ]
  },
  {
   "cell_type": "markdown",
   "metadata": {},
   "source": [
    "***We are going to manually find each of the above cities' corresponding county. After that we'll overwrite the null values with proper counties.***"
   ]
  },
  {
   "cell_type": "code",
   "execution_count": 25,
   "metadata": {},
   "outputs": [],
   "source": [
    "clean_df.loc[clean_df['city']=='VALLEY GLEN','county']='LOS ANGELES'\n",
    "clean_df.loc[clean_df['city']=='VAL VERDE','county']='LOS ANGELES'\n",
    "clean_df.loc[clean_df['city']=='LAKE BALBOA','county']='LOS ANGELES'\n",
    "clean_df.loc[clean_df['city']=='LAKEVIEW TERRACE','county']='LOS ANGELES'\n",
    "clean_df.loc[clean_df['city']=='LADERA RANCH','county']='ORANGE'\n",
    "clean_df.loc[clean_df['city']=='NORTH TUSTIN','county']='ORANGE'\n",
    "clean_df.loc[clean_df['city']=='LAGUNA WOODS','county']='ORANGE'\n",
    "clean_df.loc[clean_df['city']=='WHITEWATER','county']='RIVERSIDE'\n",
    "clean_df.loc[clean_df['city']=='OAK GLEN','county']='SAN BERNARDINO'\n",
    "clean_df.loc[clean_df['city']=='OAK HILLS','county']='SAN BERNARDINO'\n",
    "clean_df.loc[clean_df['city']=='EL MIRAGE','county']='SAN BERNARDINO'\n",
    "clean_df.loc[clean_df['city']=='LA CONCHITA','county']='VENTURA'"
   ]
  },
  {
   "cell_type": "code",
   "execution_count": 26,
   "metadata": {},
   "outputs": [
    {
     "data": {
      "text/plain": [
       "RIVERSIDE          3138\n",
       "LOS ANGELES        2747\n",
       "SAN DIEGO          2705\n",
       "SAN BERNARDINO     2617\n",
       "ORANGE             1872\n",
       "SAN LUIS OBISPO     957\n",
       "VENTURA             953\n",
       "KERN                316\n",
       "SANTA BARBARA       149\n",
       "IMPERIAL             20\n",
       "Name: county, dtype: int64"
      ]
     },
     "execution_count": 26,
     "metadata": {},
     "output_type": "execute_result"
    }
   ],
   "source": [
    "clean_df['county'].value_counts()"
   ]
  },
  {
   "cell_type": "markdown",
   "metadata": {},
   "source": [
    "**As you can see, we have no null value and we have 10 different districts in California.**"
   ]
  },
  {
   "cell_type": "code",
   "execution_count": null,
   "metadata": {},
   "outputs": [],
   "source": []
  },
  {
   "cell_type": "markdown",
   "metadata": {},
   "source": [
    "_____________"
   ]
  },
  {
   "cell_type": "code",
   "execution_count": 27,
   "metadata": {},
   "outputs": [],
   "source": [
    "### converting columns with integer values to columns with float values\n",
    "clean_df['bed']=clean_df['bed']/1.\n",
    "clean_df['sqft']=clean_df['sqft']/1.\n",
    "clean_df['price']=clean_df['price']/1."
   ]
  },
  {
   "cell_type": "code",
   "execution_count": 28,
   "metadata": {},
   "outputs": [
    {
     "data": {
      "text/html": [
       "<div>\n",
       "<style scoped>\n",
       "    .dataframe tbody tr th:only-of-type {\n",
       "        vertical-align: middle;\n",
       "    }\n",
       "\n",
       "    .dataframe tbody tr th {\n",
       "        vertical-align: top;\n",
       "    }\n",
       "\n",
       "    .dataframe thead th {\n",
       "        text-align: right;\n",
       "    }\n",
       "</style>\n",
       "<table border=\"1\" class=\"dataframe\">\n",
       "  <thead>\n",
       "    <tr style=\"text-align: right;\">\n",
       "      <th></th>\n",
       "      <th>image_id</th>\n",
       "      <th>n_city</th>\n",
       "      <th>bed</th>\n",
       "      <th>bath</th>\n",
       "      <th>sqft</th>\n",
       "      <th>price</th>\n",
       "    </tr>\n",
       "  </thead>\n",
       "  <tbody>\n",
       "    <tr>\n",
       "      <th>count</th>\n",
       "      <td>15474.000000</td>\n",
       "      <td>15474.000000</td>\n",
       "      <td>15474.000000</td>\n",
       "      <td>15474.000000</td>\n",
       "      <td>15474.000000</td>\n",
       "      <td>1.547400e+04</td>\n",
       "    </tr>\n",
       "    <tr>\n",
       "      <th>mean</th>\n",
       "      <td>7736.500000</td>\n",
       "      <td>216.597518</td>\n",
       "      <td>3.506398</td>\n",
       "      <td>2.453251</td>\n",
       "      <td>2173.913209</td>\n",
       "      <td>7.031209e+05</td>\n",
       "    </tr>\n",
       "    <tr>\n",
       "      <th>std</th>\n",
       "      <td>4467.103368</td>\n",
       "      <td>112.372985</td>\n",
       "      <td>1.034838</td>\n",
       "      <td>0.958742</td>\n",
       "      <td>1025.339617</td>\n",
       "      <td>3.769762e+05</td>\n",
       "    </tr>\n",
       "    <tr>\n",
       "      <th>min</th>\n",
       "      <td>0.000000</td>\n",
       "      <td>0.000000</td>\n",
       "      <td>1.000000</td>\n",
       "      <td>0.000000</td>\n",
       "      <td>280.000000</td>\n",
       "      <td>1.950000e+05</td>\n",
       "    </tr>\n",
       "    <tr>\n",
       "      <th>25%</th>\n",
       "      <td>3868.250000</td>\n",
       "      <td>119.000000</td>\n",
       "      <td>3.000000</td>\n",
       "      <td>2.000000</td>\n",
       "      <td>1426.000000</td>\n",
       "      <td>4.450000e+05</td>\n",
       "    </tr>\n",
       "    <tr>\n",
       "      <th>50%</th>\n",
       "      <td>7736.500000</td>\n",
       "      <td>222.500000</td>\n",
       "      <td>3.000000</td>\n",
       "      <td>2.100000</td>\n",
       "      <td>1951.000000</td>\n",
       "      <td>6.390000e+05</td>\n",
       "    </tr>\n",
       "    <tr>\n",
       "      <th>75%</th>\n",
       "      <td>11604.750000</td>\n",
       "      <td>315.000000</td>\n",
       "      <td>4.000000</td>\n",
       "      <td>3.000000</td>\n",
       "      <td>2737.750000</td>\n",
       "      <td>8.349750e+05</td>\n",
       "    </tr>\n",
       "    <tr>\n",
       "      <th>max</th>\n",
       "      <td>15473.000000</td>\n",
       "      <td>414.000000</td>\n",
       "      <td>12.000000</td>\n",
       "      <td>36.000000</td>\n",
       "      <td>17667.000000</td>\n",
       "      <td>2.000000e+06</td>\n",
       "    </tr>\n",
       "  </tbody>\n",
       "</table>\n",
       "</div>"
      ],
      "text/plain": [
       "           image_id        n_city           bed          bath          sqft  \\\n",
       "count  15474.000000  15474.000000  15474.000000  15474.000000  15474.000000   \n",
       "mean    7736.500000    216.597518      3.506398      2.453251   2173.913209   \n",
       "std     4467.103368    112.372985      1.034838      0.958742   1025.339617   \n",
       "min        0.000000      0.000000      1.000000      0.000000    280.000000   \n",
       "25%     3868.250000    119.000000      3.000000      2.000000   1426.000000   \n",
       "50%     7736.500000    222.500000      3.000000      2.100000   1951.000000   \n",
       "75%    11604.750000    315.000000      4.000000      3.000000   2737.750000   \n",
       "max    15473.000000    414.000000     12.000000     36.000000  17667.000000   \n",
       "\n",
       "              price  \n",
       "count  1.547400e+04  \n",
       "mean   7.031209e+05  \n",
       "std    3.769762e+05  \n",
       "min    1.950000e+05  \n",
       "25%    4.450000e+05  \n",
       "50%    6.390000e+05  \n",
       "75%    8.349750e+05  \n",
       "max    2.000000e+06  "
      ]
     },
     "execution_count": 28,
     "metadata": {},
     "output_type": "execute_result"
    }
   ],
   "source": [
    "clean_df.describe()"
   ]
  },
  {
   "cell_type": "markdown",
   "metadata": {},
   "source": [
    "***The data needs some cleaning! for example the maximum number of baths and bedrooms needs to be checked.***"
   ]
  },
  {
   "cell_type": "markdown",
   "metadata": {},
   "source": [
    "***Let's split half bathrooms from full bathrooms :***"
   ]
  },
  {
   "cell_type": "code",
   "execution_count": 29,
   "metadata": {},
   "outputs": [
    {
     "data": {
      "text/html": [
       "<div>\n",
       "<style scoped>\n",
       "    .dataframe tbody tr th:only-of-type {\n",
       "        vertical-align: middle;\n",
       "    }\n",
       "\n",
       "    .dataframe tbody tr th {\n",
       "        vertical-align: top;\n",
       "    }\n",
       "\n",
       "    .dataframe thead th {\n",
       "        text-align: right;\n",
       "    }\n",
       "</style>\n",
       "<table border=\"1\" class=\"dataframe\">\n",
       "  <thead>\n",
       "    <tr style=\"text-align: right;\">\n",
       "      <th></th>\n",
       "      <th>image_id</th>\n",
       "      <th>street</th>\n",
       "      <th>city</th>\n",
       "      <th>n_city</th>\n",
       "      <th>bed</th>\n",
       "      <th>bath</th>\n",
       "      <th>sqft</th>\n",
       "      <th>price</th>\n",
       "      <th>County_bool</th>\n",
       "      <th>county</th>\n",
       "      <th>half_bath</th>\n",
       "    </tr>\n",
       "  </thead>\n",
       "  <tbody>\n",
       "    <tr>\n",
       "      <th>0</th>\n",
       "      <td>0</td>\n",
       "      <td>Van Buren Avenue</td>\n",
       "      <td>SALTON CITY</td>\n",
       "      <td>317</td>\n",
       "      <td>3.0</td>\n",
       "      <td>2.0</td>\n",
       "      <td>1560.0</td>\n",
       "      <td>201900.0</td>\n",
       "      <td>True</td>\n",
       "      <td>IMPERIAL</td>\n",
       "      <td>0.0</td>\n",
       "    </tr>\n",
       "    <tr>\n",
       "      <th>1</th>\n",
       "      <td>1</td>\n",
       "      <td>C Street W</td>\n",
       "      <td>BRAWLEY</td>\n",
       "      <td>48</td>\n",
       "      <td>3.0</td>\n",
       "      <td>2.0</td>\n",
       "      <td>713.0</td>\n",
       "      <td>228500.0</td>\n",
       "      <td>True</td>\n",
       "      <td>IMPERIAL</td>\n",
       "      <td>0.0</td>\n",
       "    </tr>\n",
       "    <tr>\n",
       "      <th>2</th>\n",
       "      <td>2</td>\n",
       "      <td>Clark Road</td>\n",
       "      <td>IMPERIAL</td>\n",
       "      <td>152</td>\n",
       "      <td>3.0</td>\n",
       "      <td>1.0</td>\n",
       "      <td>800.0</td>\n",
       "      <td>273950.0</td>\n",
       "      <td>True</td>\n",
       "      <td>IMPERIAL</td>\n",
       "      <td>0.0</td>\n",
       "    </tr>\n",
       "    <tr>\n",
       "      <th>3</th>\n",
       "      <td>3</td>\n",
       "      <td>Brawley Avenue</td>\n",
       "      <td>BRAWLEY</td>\n",
       "      <td>48</td>\n",
       "      <td>3.0</td>\n",
       "      <td>1.0</td>\n",
       "      <td>1082.0</td>\n",
       "      <td>350000.0</td>\n",
       "      <td>True</td>\n",
       "      <td>IMPERIAL</td>\n",
       "      <td>0.0</td>\n",
       "    </tr>\n",
       "    <tr>\n",
       "      <th>4</th>\n",
       "      <td>4</td>\n",
       "      <td>R Carrillo Court</td>\n",
       "      <td>CALEXICO</td>\n",
       "      <td>55</td>\n",
       "      <td>4.0</td>\n",
       "      <td>3.0</td>\n",
       "      <td>2547.0</td>\n",
       "      <td>385100.0</td>\n",
       "      <td>True</td>\n",
       "      <td>IMPERIAL</td>\n",
       "      <td>0.0</td>\n",
       "    </tr>\n",
       "  </tbody>\n",
       "</table>\n",
       "</div>"
      ],
      "text/plain": [
       "   image_id             street         city  n_city  bed  bath    sqft  \\\n",
       "0         0   Van Buren Avenue  SALTON CITY     317  3.0   2.0  1560.0   \n",
       "1         1         C Street W      BRAWLEY      48  3.0   2.0   713.0   \n",
       "2         2         Clark Road     IMPERIAL     152  3.0   1.0   800.0   \n",
       "3         3     Brawley Avenue      BRAWLEY      48  3.0   1.0  1082.0   \n",
       "4         4   R Carrillo Court     CALEXICO      55  4.0   3.0  2547.0   \n",
       "\n",
       "      price  County_bool    county  half_bath  \n",
       "0  201900.0         True  IMPERIAL        0.0  \n",
       "1  228500.0         True  IMPERIAL        0.0  \n",
       "2  273950.0         True  IMPERIAL        0.0  \n",
       "3  350000.0         True  IMPERIAL        0.0  \n",
       "4  385100.0         True  IMPERIAL        0.0  "
      ]
     },
     "execution_count": 29,
     "metadata": {},
     "output_type": "execute_result"
    }
   ],
   "source": [
    "clean_df['half_bath']=( clean_df['bath']-np.floor(clean_df['bath']) )/0.1\n",
    "clean_df['bath']=np.floor(clean_df['bath'])\n",
    "clean_df.head()"
   ]
  },
  {
   "cell_type": "markdown",
   "metadata": {},
   "source": [
    "### One-hot encoding the county variable & dropping useless variables :"
   ]
  },
  {
   "cell_type": "markdown",
   "metadata": {},
   "source": [
    "*Although we reduced the number of streets but one-hot endocing of it will produce about 10,000 variables and I do not believe that training a network with more than 10,000 outputs and 15,000 data would be intuitive.*"
   ]
  },
  {
   "cell_type": "code",
   "execution_count": 30,
   "metadata": {},
   "outputs": [
    {
     "data": {
      "text/html": [
       "<div>\n",
       "<style scoped>\n",
       "    .dataframe tbody tr th:only-of-type {\n",
       "        vertical-align: middle;\n",
       "    }\n",
       "\n",
       "    .dataframe tbody tr th {\n",
       "        vertical-align: top;\n",
       "    }\n",
       "\n",
       "    .dataframe thead th {\n",
       "        text-align: right;\n",
       "    }\n",
       "</style>\n",
       "<table border=\"1\" class=\"dataframe\">\n",
       "  <thead>\n",
       "    <tr style=\"text-align: right;\">\n",
       "      <th></th>\n",
       "      <th>bed</th>\n",
       "      <th>bath</th>\n",
       "      <th>sqft</th>\n",
       "      <th>price</th>\n",
       "      <th>half_bath</th>\n",
       "      <th>IMPERIAL</th>\n",
       "      <th>KERN</th>\n",
       "      <th>LOS ANGELES</th>\n",
       "      <th>ORANGE</th>\n",
       "      <th>RIVERSIDE</th>\n",
       "      <th>...</th>\n",
       "      <th>WILDOMAR</th>\n",
       "      <th>WILMINGTON</th>\n",
       "      <th>WINCHESTER</th>\n",
       "      <th>WINNETKA</th>\n",
       "      <th>WOFFORD HEIGHTS</th>\n",
       "      <th>WOODLAND HILLS</th>\n",
       "      <th>WRIGHTWOOD</th>\n",
       "      <th>YORBA LINDA</th>\n",
       "      <th>YUCAIPA</th>\n",
       "      <th>YUCCA VALLEY</th>\n",
       "    </tr>\n",
       "  </thead>\n",
       "  <tbody>\n",
       "    <tr>\n",
       "      <th>0</th>\n",
       "      <td>3.0</td>\n",
       "      <td>2.0</td>\n",
       "      <td>1560.0</td>\n",
       "      <td>201900.0</td>\n",
       "      <td>0.0</td>\n",
       "      <td>1</td>\n",
       "      <td>0</td>\n",
       "      <td>0</td>\n",
       "      <td>0</td>\n",
       "      <td>0</td>\n",
       "      <td>...</td>\n",
       "      <td>0</td>\n",
       "      <td>0</td>\n",
       "      <td>0</td>\n",
       "      <td>0</td>\n",
       "      <td>0</td>\n",
       "      <td>0</td>\n",
       "      <td>0</td>\n",
       "      <td>0</td>\n",
       "      <td>0</td>\n",
       "      <td>0</td>\n",
       "    </tr>\n",
       "    <tr>\n",
       "      <th>1</th>\n",
       "      <td>3.0</td>\n",
       "      <td>2.0</td>\n",
       "      <td>713.0</td>\n",
       "      <td>228500.0</td>\n",
       "      <td>0.0</td>\n",
       "      <td>1</td>\n",
       "      <td>0</td>\n",
       "      <td>0</td>\n",
       "      <td>0</td>\n",
       "      <td>0</td>\n",
       "      <td>...</td>\n",
       "      <td>0</td>\n",
       "      <td>0</td>\n",
       "      <td>0</td>\n",
       "      <td>0</td>\n",
       "      <td>0</td>\n",
       "      <td>0</td>\n",
       "      <td>0</td>\n",
       "      <td>0</td>\n",
       "      <td>0</td>\n",
       "      <td>0</td>\n",
       "    </tr>\n",
       "    <tr>\n",
       "      <th>2</th>\n",
       "      <td>3.0</td>\n",
       "      <td>1.0</td>\n",
       "      <td>800.0</td>\n",
       "      <td>273950.0</td>\n",
       "      <td>0.0</td>\n",
       "      <td>1</td>\n",
       "      <td>0</td>\n",
       "      <td>0</td>\n",
       "      <td>0</td>\n",
       "      <td>0</td>\n",
       "      <td>...</td>\n",
       "      <td>0</td>\n",
       "      <td>0</td>\n",
       "      <td>0</td>\n",
       "      <td>0</td>\n",
       "      <td>0</td>\n",
       "      <td>0</td>\n",
       "      <td>0</td>\n",
       "      <td>0</td>\n",
       "      <td>0</td>\n",
       "      <td>0</td>\n",
       "    </tr>\n",
       "    <tr>\n",
       "      <th>3</th>\n",
       "      <td>3.0</td>\n",
       "      <td>1.0</td>\n",
       "      <td>1082.0</td>\n",
       "      <td>350000.0</td>\n",
       "      <td>0.0</td>\n",
       "      <td>1</td>\n",
       "      <td>0</td>\n",
       "      <td>0</td>\n",
       "      <td>0</td>\n",
       "      <td>0</td>\n",
       "      <td>...</td>\n",
       "      <td>0</td>\n",
       "      <td>0</td>\n",
       "      <td>0</td>\n",
       "      <td>0</td>\n",
       "      <td>0</td>\n",
       "      <td>0</td>\n",
       "      <td>0</td>\n",
       "      <td>0</td>\n",
       "      <td>0</td>\n",
       "      <td>0</td>\n",
       "    </tr>\n",
       "    <tr>\n",
       "      <th>4</th>\n",
       "      <td>4.0</td>\n",
       "      <td>3.0</td>\n",
       "      <td>2547.0</td>\n",
       "      <td>385100.0</td>\n",
       "      <td>0.0</td>\n",
       "      <td>1</td>\n",
       "      <td>0</td>\n",
       "      <td>0</td>\n",
       "      <td>0</td>\n",
       "      <td>0</td>\n",
       "      <td>...</td>\n",
       "      <td>0</td>\n",
       "      <td>0</td>\n",
       "      <td>0</td>\n",
       "      <td>0</td>\n",
       "      <td>0</td>\n",
       "      <td>0</td>\n",
       "      <td>0</td>\n",
       "      <td>0</td>\n",
       "      <td>0</td>\n",
       "      <td>0</td>\n",
       "    </tr>\n",
       "    <tr>\n",
       "      <th>...</th>\n",
       "      <td>...</td>\n",
       "      <td>...</td>\n",
       "      <td>...</td>\n",
       "      <td>...</td>\n",
       "      <td>...</td>\n",
       "      <td>...</td>\n",
       "      <td>...</td>\n",
       "      <td>...</td>\n",
       "      <td>...</td>\n",
       "      <td>...</td>\n",
       "      <td>...</td>\n",
       "      <td>...</td>\n",
       "      <td>...</td>\n",
       "      <td>...</td>\n",
       "      <td>...</td>\n",
       "      <td>...</td>\n",
       "      <td>...</td>\n",
       "      <td>...</td>\n",
       "      <td>...</td>\n",
       "      <td>...</td>\n",
       "      <td>...</td>\n",
       "    </tr>\n",
       "    <tr>\n",
       "      <th>15469</th>\n",
       "      <td>5.0</td>\n",
       "      <td>4.0</td>\n",
       "      <td>4092.0</td>\n",
       "      <td>949000.0</td>\n",
       "      <td>1.0</td>\n",
       "      <td>0</td>\n",
       "      <td>0</td>\n",
       "      <td>0</td>\n",
       "      <td>0</td>\n",
       "      <td>0</td>\n",
       "      <td>...</td>\n",
       "      <td>0</td>\n",
       "      <td>0</td>\n",
       "      <td>0</td>\n",
       "      <td>0</td>\n",
       "      <td>0</td>\n",
       "      <td>0</td>\n",
       "      <td>0</td>\n",
       "      <td>0</td>\n",
       "      <td>0</td>\n",
       "      <td>0</td>\n",
       "    </tr>\n",
       "    <tr>\n",
       "      <th>15470</th>\n",
       "      <td>5.0</td>\n",
       "      <td>3.0</td>\n",
       "      <td>2773.0</td>\n",
       "      <td>949900.0</td>\n",
       "      <td>0.0</td>\n",
       "      <td>0</td>\n",
       "      <td>0</td>\n",
       "      <td>0</td>\n",
       "      <td>0</td>\n",
       "      <td>0</td>\n",
       "      <td>...</td>\n",
       "      <td>0</td>\n",
       "      <td>0</td>\n",
       "      <td>0</td>\n",
       "      <td>0</td>\n",
       "      <td>0</td>\n",
       "      <td>0</td>\n",
       "      <td>0</td>\n",
       "      <td>0</td>\n",
       "      <td>0</td>\n",
       "      <td>0</td>\n",
       "    </tr>\n",
       "    <tr>\n",
       "      <th>15471</th>\n",
       "      <td>3.0</td>\n",
       "      <td>2.0</td>\n",
       "      <td>1576.0</td>\n",
       "      <td>920000.0</td>\n",
       "      <td>0.0</td>\n",
       "      <td>0</td>\n",
       "      <td>0</td>\n",
       "      <td>0</td>\n",
       "      <td>0</td>\n",
       "      <td>0</td>\n",
       "      <td>...</td>\n",
       "      <td>0</td>\n",
       "      <td>0</td>\n",
       "      <td>0</td>\n",
       "      <td>0</td>\n",
       "      <td>0</td>\n",
       "      <td>0</td>\n",
       "      <td>0</td>\n",
       "      <td>0</td>\n",
       "      <td>0</td>\n",
       "      <td>0</td>\n",
       "    </tr>\n",
       "    <tr>\n",
       "      <th>15472</th>\n",
       "      <td>4.0</td>\n",
       "      <td>2.0</td>\n",
       "      <td>2086.0</td>\n",
       "      <td>997000.0</td>\n",
       "      <td>0.0</td>\n",
       "      <td>0</td>\n",
       "      <td>0</td>\n",
       "      <td>0</td>\n",
       "      <td>0</td>\n",
       "      <td>0</td>\n",
       "      <td>...</td>\n",
       "      <td>0</td>\n",
       "      <td>0</td>\n",
       "      <td>0</td>\n",
       "      <td>0</td>\n",
       "      <td>0</td>\n",
       "      <td>0</td>\n",
       "      <td>0</td>\n",
       "      <td>0</td>\n",
       "      <td>0</td>\n",
       "      <td>0</td>\n",
       "    </tr>\n",
       "    <tr>\n",
       "      <th>15473</th>\n",
       "      <td>2.0</td>\n",
       "      <td>2.0</td>\n",
       "      <td>1216.0</td>\n",
       "      <td>975000.0</td>\n",
       "      <td>0.0</td>\n",
       "      <td>0</td>\n",
       "      <td>0</td>\n",
       "      <td>0</td>\n",
       "      <td>0</td>\n",
       "      <td>0</td>\n",
       "      <td>...</td>\n",
       "      <td>0</td>\n",
       "      <td>0</td>\n",
       "      <td>0</td>\n",
       "      <td>0</td>\n",
       "      <td>0</td>\n",
       "      <td>0</td>\n",
       "      <td>0</td>\n",
       "      <td>0</td>\n",
       "      <td>0</td>\n",
       "      <td>0</td>\n",
       "    </tr>\n",
       "  </tbody>\n",
       "</table>\n",
       "<p>15474 rows × 430 columns</p>\n",
       "</div>"
      ],
      "text/plain": [
       "       bed  bath    sqft     price  half_bath  IMPERIAL  KERN  LOS ANGELES  \\\n",
       "0      3.0   2.0  1560.0  201900.0        0.0         1     0            0   \n",
       "1      3.0   2.0   713.0  228500.0        0.0         1     0            0   \n",
       "2      3.0   1.0   800.0  273950.0        0.0         1     0            0   \n",
       "3      3.0   1.0  1082.0  350000.0        0.0         1     0            0   \n",
       "4      4.0   3.0  2547.0  385100.0        0.0         1     0            0   \n",
       "...    ...   ...     ...       ...        ...       ...   ...          ...   \n",
       "15469  5.0   4.0  4092.0  949000.0        1.0         0     0            0   \n",
       "15470  5.0   3.0  2773.0  949900.0        0.0         0     0            0   \n",
       "15471  3.0   2.0  1576.0  920000.0        0.0         0     0            0   \n",
       "15472  4.0   2.0  2086.0  997000.0        0.0         0     0            0   \n",
       "15473  2.0   2.0  1216.0  975000.0        0.0         0     0            0   \n",
       "\n",
       "       ORANGE  RIVERSIDE  ...  WILDOMAR  WILMINGTON  WINCHESTER  WINNETKA  \\\n",
       "0           0          0  ...         0           0           0         0   \n",
       "1           0          0  ...         0           0           0         0   \n",
       "2           0          0  ...         0           0           0         0   \n",
       "3           0          0  ...         0           0           0         0   \n",
       "4           0          0  ...         0           0           0         0   \n",
       "...       ...        ...  ...       ...         ...         ...       ...   \n",
       "15469       0          0  ...         0           0           0         0   \n",
       "15470       0          0  ...         0           0           0         0   \n",
       "15471       0          0  ...         0           0           0         0   \n",
       "15472       0          0  ...         0           0           0         0   \n",
       "15473       0          0  ...         0           0           0         0   \n",
       "\n",
       "       WOFFORD HEIGHTS  WOODLAND HILLS  WRIGHTWOOD  YORBA LINDA  YUCAIPA  \\\n",
       "0                    0               0           0            0        0   \n",
       "1                    0               0           0            0        0   \n",
       "2                    0               0           0            0        0   \n",
       "3                    0               0           0            0        0   \n",
       "4                    0               0           0            0        0   \n",
       "...                ...             ...         ...          ...      ...   \n",
       "15469                0               0           0            0        0   \n",
       "15470                0               0           0            0        0   \n",
       "15471                0               0           0            0        0   \n",
       "15472                0               0           0            0        0   \n",
       "15473                0               0           0            0        0   \n",
       "\n",
       "       YUCCA VALLEY  \n",
       "0                 0  \n",
       "1                 0  \n",
       "2                 0  \n",
       "3                 0  \n",
       "4                 0  \n",
       "...             ...  \n",
       "15469             0  \n",
       "15470             0  \n",
       "15471             0  \n",
       "15472             0  \n",
       "15473             0  \n",
       "\n",
       "[15474 rows x 430 columns]"
      ]
     },
     "execution_count": 30,
     "metadata": {},
     "output_type": "execute_result"
    }
   ],
   "source": [
    "### creating one-hot variables\n",
    "county=pd.get_dummies(clean_df[\"county\"])\n",
    "city=pd.get_dummies(clean_df[\"city\"])\n",
    "### froping the redundant variables and adding the one-hot encoded ones\n",
    "clean_df=clean_df.drop([ 'image_id' , 'street' , 'city' , 'n_city' ,'County_bool','county'] ,axis=1)\n",
    "clean_df=pd.concat([clean_df,county,city],axis=1)\n",
    "\n",
    "clean_df"
   ]
  },
  {
   "cell_type": "markdown",
   "metadata": {},
   "source": [
    "### Sanity check of the data :"
   ]
  },
  {
   "cell_type": "markdown",
   "metadata": {},
   "source": [
    "#### Checking the bathroom column :"
   ]
  },
  {
   "cell_type": "code",
   "execution_count": 31,
   "metadata": {},
   "outputs": [
    {
     "data": {
      "text/html": [
       "<div>\n",
       "<style scoped>\n",
       "    .dataframe tbody tr th:only-of-type {\n",
       "        vertical-align: middle;\n",
       "    }\n",
       "\n",
       "    .dataframe tbody tr th {\n",
       "        vertical-align: top;\n",
       "    }\n",
       "\n",
       "    .dataframe thead th {\n",
       "        text-align: right;\n",
       "    }\n",
       "</style>\n",
       "<table border=\"1\" class=\"dataframe\">\n",
       "  <thead>\n",
       "    <tr style=\"text-align: right;\">\n",
       "      <th></th>\n",
       "      <th>bed</th>\n",
       "      <th>bath</th>\n",
       "      <th>sqft</th>\n",
       "      <th>price</th>\n",
       "      <th>half_bath</th>\n",
       "    </tr>\n",
       "  </thead>\n",
       "  <tbody>\n",
       "    <tr>\n",
       "      <th>714</th>\n",
       "      <td>4.0</td>\n",
       "      <td>36.0</td>\n",
       "      <td>1229.0</td>\n",
       "      <td>240000.0</td>\n",
       "      <td>0.0</td>\n",
       "    </tr>\n",
       "    <tr>\n",
       "      <th>778</th>\n",
       "      <td>4.0</td>\n",
       "      <td>13.0</td>\n",
       "      <td>1836.0</td>\n",
       "      <td>299000.0</td>\n",
       "      <td>0.0</td>\n",
       "    </tr>\n",
       "    <tr>\n",
       "      <th>13568</th>\n",
       "      <td>11.0</td>\n",
       "      <td>11.0</td>\n",
       "      <td>6600.0</td>\n",
       "      <td>1550000.0</td>\n",
       "      <td>2.0</td>\n",
       "    </tr>\n",
       "    <tr>\n",
       "      <th>7531</th>\n",
       "      <td>5.0</td>\n",
       "      <td>8.0</td>\n",
       "      <td>3989.0</td>\n",
       "      <td>795000.0</td>\n",
       "      <td>1.0</td>\n",
       "    </tr>\n",
       "    <tr>\n",
       "      <th>5142</th>\n",
       "      <td>6.0</td>\n",
       "      <td>8.0</td>\n",
       "      <td>5883.0</td>\n",
       "      <td>1795000.0</td>\n",
       "      <td>1.0</td>\n",
       "    </tr>\n",
       "    <tr>\n",
       "      <th>...</th>\n",
       "      <td>...</td>\n",
       "      <td>...</td>\n",
       "      <td>...</td>\n",
       "      <td>...</td>\n",
       "      <td>...</td>\n",
       "    </tr>\n",
       "    <tr>\n",
       "      <th>5686</th>\n",
       "      <td>3.0</td>\n",
       "      <td>0.0</td>\n",
       "      <td>2009.0</td>\n",
       "      <td>281000.0</td>\n",
       "      <td>0.0</td>\n",
       "    </tr>\n",
       "    <tr>\n",
       "      <th>9365</th>\n",
       "      <td>3.0</td>\n",
       "      <td>0.0</td>\n",
       "      <td>1648.0</td>\n",
       "      <td>450000.0</td>\n",
       "      <td>0.0</td>\n",
       "    </tr>\n",
       "    <tr>\n",
       "      <th>14089</th>\n",
       "      <td>3.0</td>\n",
       "      <td>0.0</td>\n",
       "      <td>980.0</td>\n",
       "      <td>709900.0</td>\n",
       "      <td>1.0</td>\n",
       "    </tr>\n",
       "    <tr>\n",
       "      <th>3639</th>\n",
       "      <td>3.0</td>\n",
       "      <td>0.0</td>\n",
       "      <td>1300.0</td>\n",
       "      <td>399000.0</td>\n",
       "      <td>0.0</td>\n",
       "    </tr>\n",
       "    <tr>\n",
       "      <th>3459</th>\n",
       "      <td>2.0</td>\n",
       "      <td>0.0</td>\n",
       "      <td>900.0</td>\n",
       "      <td>229000.0</td>\n",
       "      <td>0.0</td>\n",
       "    </tr>\n",
       "  </tbody>\n",
       "</table>\n",
       "<p>15474 rows × 5 columns</p>\n",
       "</div>"
      ],
      "text/plain": [
       "        bed  bath    sqft      price  half_bath\n",
       "714     4.0  36.0  1229.0   240000.0        0.0\n",
       "778     4.0  13.0  1836.0   299000.0        0.0\n",
       "13568  11.0  11.0  6600.0  1550000.0        2.0\n",
       "7531    5.0   8.0  3989.0   795000.0        1.0\n",
       "5142    6.0   8.0  5883.0  1795000.0        1.0\n",
       "...     ...   ...     ...        ...        ...\n",
       "5686    3.0   0.0  2009.0   281000.0        0.0\n",
       "9365    3.0   0.0  1648.0   450000.0        0.0\n",
       "14089   3.0   0.0   980.0   709900.0        1.0\n",
       "3639    3.0   0.0  1300.0   399000.0        0.0\n",
       "3459    2.0   0.0   900.0   229000.0        0.0\n",
       "\n",
       "[15474 rows x 5 columns]"
      ]
     },
     "execution_count": 31,
     "metadata": {},
     "output_type": "execute_result"
    }
   ],
   "source": [
    "continuous=['bed','bath','sqft','price','half_bath']\n",
    "\n",
    "#sorting the data frame regarding to number of bathrooms from maximum to minimum\n",
    "clean_df[continuous].sort_values('bath',ascending=False)"
   ]
  },
  {
   "cell_type": "markdown",
   "metadata": {},
   "source": [
    "*First two rows do not have the sensible number of baths regarding other variables. Also, I've checked the corresponding pictures and most certainly those pictures do not contain these nunbers of bathrooms.*"
   ]
  },
  {
   "cell_type": "code",
   "execution_count": 32,
   "metadata": {},
   "outputs": [],
   "source": [
    "### dropping the entire row of records with unacceptable number of bathrooms\n",
    "clean_df=clean_df.drop([714,778],axis=0)"
   ]
  },
  {
   "cell_type": "markdown",
   "metadata": {},
   "source": [
    "#### Checking the sqft column :"
   ]
  },
  {
   "cell_type": "code",
   "execution_count": 33,
   "metadata": {},
   "outputs": [
    {
     "data": {
      "text/html": [
       "<div>\n",
       "<style scoped>\n",
       "    .dataframe tbody tr th:only-of-type {\n",
       "        vertical-align: middle;\n",
       "    }\n",
       "\n",
       "    .dataframe tbody tr th {\n",
       "        vertical-align: top;\n",
       "    }\n",
       "\n",
       "    .dataframe thead th {\n",
       "        text-align: right;\n",
       "    }\n",
       "</style>\n",
       "<table border=\"1\" class=\"dataframe\">\n",
       "  <thead>\n",
       "    <tr style=\"text-align: right;\">\n",
       "      <th></th>\n",
       "      <th>bed</th>\n",
       "      <th>bath</th>\n",
       "      <th>sqft</th>\n",
       "      <th>price</th>\n",
       "      <th>half_bath</th>\n",
       "    </tr>\n",
       "  </thead>\n",
       "  <tbody>\n",
       "    <tr>\n",
       "      <th>4993</th>\n",
       "      <td>3.0</td>\n",
       "      <td>3.0</td>\n",
       "      <td>280.0</td>\n",
       "      <td>1184000.0</td>\n",
       "      <td>0.0</td>\n",
       "    </tr>\n",
       "    <tr>\n",
       "      <th>2037</th>\n",
       "      <td>1.0</td>\n",
       "      <td>1.0</td>\n",
       "      <td>352.0</td>\n",
       "      <td>560000.0</td>\n",
       "      <td>0.0</td>\n",
       "    </tr>\n",
       "    <tr>\n",
       "      <th>13674</th>\n",
       "      <td>1.0</td>\n",
       "      <td>1.0</td>\n",
       "      <td>352.0</td>\n",
       "      <td>439000.0</td>\n",
       "      <td>0.0</td>\n",
       "    </tr>\n",
       "    <tr>\n",
       "      <th>15250</th>\n",
       "      <td>1.0</td>\n",
       "      <td>1.0</td>\n",
       "      <td>352.0</td>\n",
       "      <td>699000.0</td>\n",
       "      <td>0.0</td>\n",
       "    </tr>\n",
       "  </tbody>\n",
       "</table>\n",
       "</div>"
      ],
      "text/plain": [
       "       bed  bath   sqft      price  half_bath\n",
       "4993   3.0   3.0  280.0  1184000.0        0.0\n",
       "2037   1.0   1.0  352.0   560000.0        0.0\n",
       "13674  1.0   1.0  352.0   439000.0        0.0\n",
       "15250  1.0   1.0  352.0   699000.0        0.0"
      ]
     },
     "execution_count": 33,
     "metadata": {},
     "output_type": "execute_result"
    }
   ],
   "source": [
    "#sorting the data frame regarding to the area of each house from minimum to maximum\n",
    "clean_df[continuous].sort_values('sqft',ascending=True).head(4)"
   ]
  },
  {
   "cell_type": "markdown",
   "metadata": {},
   "source": [
    "*The first row's sqft is not right. 280sqft is equals to 26m2 and according to other features of this property like number of bedrooms and bathrooms, amount of price and it's corresponding picture, it should be 2800sqft. So, we'll correct the typo.*"
   ]
  },
  {
   "cell_type": "code",
   "execution_count": 34,
   "metadata": {},
   "outputs": [],
   "source": [
    "clean_df.loc[4993,'sqft']=2800"
   ]
  },
  {
   "cell_type": "markdown",
   "metadata": {},
   "source": [
    "#### checking the bed column :"
   ]
  },
  {
   "cell_type": "code",
   "execution_count": 35,
   "metadata": {},
   "outputs": [
    {
     "data": {
      "text/html": [
       "<div>\n",
       "<style scoped>\n",
       "    .dataframe tbody tr th:only-of-type {\n",
       "        vertical-align: middle;\n",
       "    }\n",
       "\n",
       "    .dataframe tbody tr th {\n",
       "        vertical-align: top;\n",
       "    }\n",
       "\n",
       "    .dataframe thead th {\n",
       "        text-align: right;\n",
       "    }\n",
       "</style>\n",
       "<table border=\"1\" class=\"dataframe\">\n",
       "  <thead>\n",
       "    <tr style=\"text-align: right;\">\n",
       "      <th></th>\n",
       "      <th>bed</th>\n",
       "      <th>bath</th>\n",
       "      <th>sqft</th>\n",
       "      <th>price</th>\n",
       "      <th>half_bath</th>\n",
       "    </tr>\n",
       "  </thead>\n",
       "  <tbody>\n",
       "    <tr>\n",
       "      <th>13152</th>\n",
       "      <td>12.0</td>\n",
       "      <td>3.0</td>\n",
       "      <td>2900.0</td>\n",
       "      <td>869500.0</td>\n",
       "      <td>0.0</td>\n",
       "    </tr>\n",
       "    <tr>\n",
       "      <th>13568</th>\n",
       "      <td>11.0</td>\n",
       "      <td>11.0</td>\n",
       "      <td>6600.0</td>\n",
       "      <td>1550000.0</td>\n",
       "      <td>2.0</td>\n",
       "    </tr>\n",
       "    <tr>\n",
       "      <th>10728</th>\n",
       "      <td>10.0</td>\n",
       "      <td>6.0</td>\n",
       "      <td>3926.0</td>\n",
       "      <td>1250000.0</td>\n",
       "      <td>0.0</td>\n",
       "    </tr>\n",
       "    <tr>\n",
       "      <th>14687</th>\n",
       "      <td>10.0</td>\n",
       "      <td>5.0</td>\n",
       "      <td>3284.0</td>\n",
       "      <td>1150000.0</td>\n",
       "      <td>0.0</td>\n",
       "    </tr>\n",
       "    <tr>\n",
       "      <th>272</th>\n",
       "      <td>10.0</td>\n",
       "      <td>8.0</td>\n",
       "      <td>3784.0</td>\n",
       "      <td>475000.0</td>\n",
       "      <td>0.0</td>\n",
       "    </tr>\n",
       "    <tr>\n",
       "      <th>10926</th>\n",
       "      <td>10.0</td>\n",
       "      <td>5.0</td>\n",
       "      <td>3554.0</td>\n",
       "      <td>1875000.0</td>\n",
       "      <td>0.0</td>\n",
       "    </tr>\n",
       "    <tr>\n",
       "      <th>12902</th>\n",
       "      <td>10.0</td>\n",
       "      <td>3.0</td>\n",
       "      <td>1890.0</td>\n",
       "      <td>769500.0</td>\n",
       "      <td>0.0</td>\n",
       "    </tr>\n",
       "    <tr>\n",
       "      <th>14533</th>\n",
       "      <td>10.0</td>\n",
       "      <td>4.0</td>\n",
       "      <td>4000.0</td>\n",
       "      <td>1300000.0</td>\n",
       "      <td>0.0</td>\n",
       "    </tr>\n",
       "    <tr>\n",
       "      <th>5163</th>\n",
       "      <td>9.0</td>\n",
       "      <td>5.0</td>\n",
       "      <td>6020.0</td>\n",
       "      <td>1875000.0</td>\n",
       "      <td>1.0</td>\n",
       "    </tr>\n",
       "    <tr>\n",
       "      <th>8292</th>\n",
       "      <td>9.0</td>\n",
       "      <td>8.0</td>\n",
       "      <td>17667.0</td>\n",
       "      <td>1999888.0</td>\n",
       "      <td>0.0</td>\n",
       "    </tr>\n",
       "    <tr>\n",
       "      <th>13157</th>\n",
       "      <td>9.0</td>\n",
       "      <td>2.0</td>\n",
       "      <td>1680.0</td>\n",
       "      <td>869500.0</td>\n",
       "      <td>0.0</td>\n",
       "    </tr>\n",
       "    <tr>\n",
       "      <th>7979</th>\n",
       "      <td>8.0</td>\n",
       "      <td>5.0</td>\n",
       "      <td>3656.0</td>\n",
       "      <td>929990.0</td>\n",
       "      <td>0.0</td>\n",
       "    </tr>\n",
       "    <tr>\n",
       "      <th>12951</th>\n",
       "      <td>8.0</td>\n",
       "      <td>3.0</td>\n",
       "      <td>5218.0</td>\n",
       "      <td>800000.0</td>\n",
       "      <td>0.0</td>\n",
       "    </tr>\n",
       "    <tr>\n",
       "      <th>7579</th>\n",
       "      <td>8.0</td>\n",
       "      <td>4.0</td>\n",
       "      <td>3404.0</td>\n",
       "      <td>775000.0</td>\n",
       "      <td>0.0</td>\n",
       "    </tr>\n",
       "    <tr>\n",
       "      <th>2489</th>\n",
       "      <td>8.0</td>\n",
       "      <td>3.0</td>\n",
       "      <td>3190.0</td>\n",
       "      <td>750000.0</td>\n",
       "      <td>0.0</td>\n",
       "    </tr>\n",
       "    <tr>\n",
       "      <th>5006</th>\n",
       "      <td>8.0</td>\n",
       "      <td>7.0</td>\n",
       "      <td>4036.0</td>\n",
       "      <td>1349000.0</td>\n",
       "      <td>0.0</td>\n",
       "    </tr>\n",
       "    <tr>\n",
       "      <th>13645</th>\n",
       "      <td>8.0</td>\n",
       "      <td>4.0</td>\n",
       "      <td>4356.0</td>\n",
       "      <td>399000.0</td>\n",
       "      <td>0.0</td>\n",
       "    </tr>\n",
       "    <tr>\n",
       "      <th>13699</th>\n",
       "      <td>8.0</td>\n",
       "      <td>4.0</td>\n",
       "      <td>4356.0</td>\n",
       "      <td>399000.0</td>\n",
       "      <td>0.0</td>\n",
       "    </tr>\n",
       "    <tr>\n",
       "      <th>8252</th>\n",
       "      <td>8.0</td>\n",
       "      <td>5.0</td>\n",
       "      <td>9497.0</td>\n",
       "      <td>1700000.0</td>\n",
       "      <td>1.0</td>\n",
       "    </tr>\n",
       "    <tr>\n",
       "      <th>14650</th>\n",
       "      <td>8.0</td>\n",
       "      <td>6.0</td>\n",
       "      <td>6216.0</td>\n",
       "      <td>1475000.0</td>\n",
       "      <td>0.0</td>\n",
       "    </tr>\n",
       "  </tbody>\n",
       "</table>\n",
       "</div>"
      ],
      "text/plain": [
       "        bed  bath     sqft      price  half_bath\n",
       "13152  12.0   3.0   2900.0   869500.0        0.0\n",
       "13568  11.0  11.0   6600.0  1550000.0        2.0\n",
       "10728  10.0   6.0   3926.0  1250000.0        0.0\n",
       "14687  10.0   5.0   3284.0  1150000.0        0.0\n",
       "272    10.0   8.0   3784.0   475000.0        0.0\n",
       "10926  10.0   5.0   3554.0  1875000.0        0.0\n",
       "12902  10.0   3.0   1890.0   769500.0        0.0\n",
       "14533  10.0   4.0   4000.0  1300000.0        0.0\n",
       "5163    9.0   5.0   6020.0  1875000.0        1.0\n",
       "8292    9.0   8.0  17667.0  1999888.0        0.0\n",
       "13157   9.0   2.0   1680.0   869500.0        0.0\n",
       "7979    8.0   5.0   3656.0   929990.0        0.0\n",
       "12951   8.0   3.0   5218.0   800000.0        0.0\n",
       "7579    8.0   4.0   3404.0   775000.0        0.0\n",
       "2489    8.0   3.0   3190.0   750000.0        0.0\n",
       "5006    8.0   7.0   4036.0  1349000.0        0.0\n",
       "13645   8.0   4.0   4356.0   399000.0        0.0\n",
       "13699   8.0   4.0   4356.0   399000.0        0.0\n",
       "8252    8.0   5.0   9497.0  1700000.0        1.0\n",
       "14650   8.0   6.0   6216.0  1475000.0        0.0"
      ]
     },
     "execution_count": 35,
     "metadata": {},
     "output_type": "execute_result"
    }
   ],
   "source": [
    "#sorting the data frame regarding to the number of bedrooms from maximum to minimum\n",
    "clean_df[continuous].sort_values('bed',ascending=False).head(20)"
   ]
  },
  {
   "cell_type": "markdown",
   "metadata": {},
   "source": [
    "*By checking the corresponding price and images, it seems that there are no anomalies in number of bedrooms.*"
   ]
  },
  {
   "cell_type": "markdown",
   "metadata": {},
   "source": [
    "## Importing and cleaning the image data:"
   ]
  },
  {
   "cell_type": "markdown",
   "metadata": {},
   "source": [
    "*After browsing through the data, I found that there are some pictures that are from the geographic maps, paper-based architecture maps or air maps, and are not compatible with the rest of the pictures. In the below sections, we are going to specify them and will not load them in our training images.*"
   ]
  },
  {
   "cell_type": "code",
   "execution_count": 36,
   "metadata": {},
   "outputs": [],
   "source": [
    "###map-pics\n",
    "a=[0,373,380,477,490,482,550,717,747,752,784,889,903,1128,1208,1312,1697,1725,1908,2026,\n",
    "   2206,2385,2554,2662,2729,3151,3545,4923,4925,4926,4927,4928,4929,4936,4949,5013,5037,5062,5117,5118,\n",
    "   5119,5120,5121,5124,5129,5134,5135,5136,5177,5180,5312,5313,5368,5413,5510,5511,5530,5533,5551,5591,\n",
    "   5640,5648,5657,5705,5712,5713,5719,5720,5725,5744,5757,5782,5833,5862,5906,5913,5924,5925,5934,5935,\n",
    "   5941,5942,5953,6000,6108,6109,6114,6115,6142,6165,6304,6305,6306,6322,6483,6488,6489,6502,6503,6506,\n",
    "   6509,6510,6511,6526,6649,6672,6697,6698,6699,6701,6714,6770,6835,6836,6854,6872,6873,6893,6895,6948,\n",
    "   6969,6992,7029,7033,7037,7039,7065,7090,7093,7108,7144,7162,7163,7193,7291,7297,7321,7333,7336,7484,\n",
    "   7485,7493,7496,7518,7523,7526,7535,7542,7677,7678,7681,7682,7685,7736,7743,7751,7816,7874,7876,7877,\n",
    "   7888,7907,7969,8238,8709,8809,8895,9492,10488,10609,11821,11822,11998,12024,12623,14476,14481,14599,\n",
    "   14875]\n",
    "\n",
    "###air maps\n",
    "b=[989,1632,1795,1856,2291,4618,7638]\n",
    "\n",
    "###paper-based architecture maps\n",
    "\n",
    "c=[2845,3938,4089,4090,7096,9841,9987,11114,12380]\n",
    "\n",
    "###two records that we've deleted from the numeric data\n",
    "d=[714,778]\n",
    "\n",
    "noise_pics=a+b+c+d\n"
   ]
  },
  {
   "cell_type": "code",
   "execution_count": 37,
   "metadata": {},
   "outputs": [
    {
     "data": {
      "text/plain": [
       "197"
      ]
     },
     "execution_count": 37,
     "metadata": {},
     "output_type": "execute_result"
    }
   ],
   "source": [
    "len(noise_pics)"
   ]
  },
  {
   "cell_type": "markdown",
   "metadata": {},
   "source": [
    "*Let's read images except those that are on the \"noise_pics\" list or have 4 channels(corrupted pictures)*"
   ]
  },
  {
   "cell_type": "code",
   "execution_count": 38,
   "metadata": {},
   "outputs": [
    {
     "name": "stdout",
     "output_type": "stream",
     "text": [
      "image 14.jpg has been omitted\n",
      "image 2600.jpg has been omitted\n",
      "image 3747.jpg has been omitted\n",
      "image 4754.jpg has been omitted\n",
      "image 5524.jpg has been omitted\n",
      "image 5728.jpg has been omitted\n",
      "image 8886.jpg has been omitted\n",
      "image 9081.jpg has been omitted\n",
      "image 9194.jpg has been omitted\n",
      "image 10000.jpg has been omitted\n",
      "image 12498.jpg has been omitted\n"
     ]
    }
   ],
   "source": [
    "from tensorflow.keras.preprocessing.image import img_to_array\n",
    "from PIL import Image\n",
    "\n",
    "\n",
    "x_img=[]\n",
    "omit_index=[]\n",
    "\n",
    "for i in range(0,len(df)):\n",
    "    if i in noise_pics:\n",
    "      continue\n",
    " \n",
    "    image = Image.open(f\"C:/Users/Saberi/Downloads/pics/pics/{i}.jpg\").resize((64,64))\n",
    "    if img_to_array(image).shape[2]!=3:\n",
    "        print(f\"image {i}.jpg has been omitted\")\n",
    "        omit_index.append(i)\n",
    "        continue \n",
    "    x_img.append(img_to_array(image))\n",
    "    "
   ]
  },
  {
   "cell_type": "code",
   "execution_count": 39,
   "metadata": {},
   "outputs": [
    {
     "name": "stdout",
     "output_type": "stream",
     "text": [
      "15266\n",
      "11\n",
      "(15472, 430)\n"
     ]
    }
   ],
   "source": [
    "###original number of records were 15747\n",
    "print(len(x_img))\n",
    "print(len(omit_index))\n",
    "print(clean_df.shape)"
   ]
  },
  {
   "cell_type": "markdown",
   "metadata": {},
   "source": [
    "*Creating a numeric dataset that matches the images :*"
   ]
  },
  {
   "cell_type": "code",
   "execution_count": 40,
   "metadata": {},
   "outputs": [
    {
     "data": {
      "text/plain": [
       "(15266, 430)"
      ]
     },
     "execution_count": 40,
     "metadata": {},
     "output_type": "execute_result"
    }
   ],
   "source": [
    "###create a list from the omited images except index 714,778 that are already have been omited from clean_df\n",
    "deleted_index=omit_index+a+b+c\n",
    "clean_df2=clean_df.drop(deleted_index,axis=0)\n",
    "\n",
    "clean_df2.shape"
   ]
  },
  {
   "cell_type": "markdown",
   "metadata": {},
   "source": [
    "### Scaling data"
   ]
  },
  {
   "cell_type": "code",
   "execution_count": 41,
   "metadata": {},
   "outputs": [
    {
     "data": {
      "text/html": [
       "<div>\n",
       "<style scoped>\n",
       "    .dataframe tbody tr th:only-of-type {\n",
       "        vertical-align: middle;\n",
       "    }\n",
       "\n",
       "    .dataframe tbody tr th {\n",
       "        vertical-align: top;\n",
       "    }\n",
       "\n",
       "    .dataframe thead th {\n",
       "        text-align: right;\n",
       "    }\n",
       "</style>\n",
       "<table border=\"1\" class=\"dataframe\">\n",
       "  <thead>\n",
       "    <tr style=\"text-align: right;\">\n",
       "      <th></th>\n",
       "      <th>bed</th>\n",
       "      <th>bath</th>\n",
       "      <th>sqft</th>\n",
       "      <th>price</th>\n",
       "      <th>half_bath</th>\n",
       "      <th>IMPERIAL</th>\n",
       "      <th>KERN</th>\n",
       "      <th>LOS ANGELES</th>\n",
       "      <th>ORANGE</th>\n",
       "      <th>RIVERSIDE</th>\n",
       "      <th>...</th>\n",
       "      <th>WILDOMAR</th>\n",
       "      <th>WILMINGTON</th>\n",
       "      <th>WINCHESTER</th>\n",
       "      <th>WINNETKA</th>\n",
       "      <th>WOFFORD HEIGHTS</th>\n",
       "      <th>WOODLAND HILLS</th>\n",
       "      <th>WRIGHTWOOD</th>\n",
       "      <th>YORBA LINDA</th>\n",
       "      <th>YUCAIPA</th>\n",
       "      <th>YUCCA VALLEY</th>\n",
       "    </tr>\n",
       "  </thead>\n",
       "  <tbody>\n",
       "    <tr>\n",
       "      <th>1</th>\n",
       "      <td>3.0</td>\n",
       "      <td>2.0</td>\n",
       "      <td>713.0</td>\n",
       "      <td>228500.0</td>\n",
       "      <td>0.0</td>\n",
       "      <td>1</td>\n",
       "      <td>0</td>\n",
       "      <td>0</td>\n",
       "      <td>0</td>\n",
       "      <td>0</td>\n",
       "      <td>...</td>\n",
       "      <td>0</td>\n",
       "      <td>0</td>\n",
       "      <td>0</td>\n",
       "      <td>0</td>\n",
       "      <td>0</td>\n",
       "      <td>0</td>\n",
       "      <td>0</td>\n",
       "      <td>0</td>\n",
       "      <td>0</td>\n",
       "      <td>0</td>\n",
       "    </tr>\n",
       "    <tr>\n",
       "      <th>2</th>\n",
       "      <td>3.0</td>\n",
       "      <td>1.0</td>\n",
       "      <td>800.0</td>\n",
       "      <td>273950.0</td>\n",
       "      <td>0.0</td>\n",
       "      <td>1</td>\n",
       "      <td>0</td>\n",
       "      <td>0</td>\n",
       "      <td>0</td>\n",
       "      <td>0</td>\n",
       "      <td>...</td>\n",
       "      <td>0</td>\n",
       "      <td>0</td>\n",
       "      <td>0</td>\n",
       "      <td>0</td>\n",
       "      <td>0</td>\n",
       "      <td>0</td>\n",
       "      <td>0</td>\n",
       "      <td>0</td>\n",
       "      <td>0</td>\n",
       "      <td>0</td>\n",
       "    </tr>\n",
       "    <tr>\n",
       "      <th>3</th>\n",
       "      <td>3.0</td>\n",
       "      <td>1.0</td>\n",
       "      <td>1082.0</td>\n",
       "      <td>350000.0</td>\n",
       "      <td>0.0</td>\n",
       "      <td>1</td>\n",
       "      <td>0</td>\n",
       "      <td>0</td>\n",
       "      <td>0</td>\n",
       "      <td>0</td>\n",
       "      <td>...</td>\n",
       "      <td>0</td>\n",
       "      <td>0</td>\n",
       "      <td>0</td>\n",
       "      <td>0</td>\n",
       "      <td>0</td>\n",
       "      <td>0</td>\n",
       "      <td>0</td>\n",
       "      <td>0</td>\n",
       "      <td>0</td>\n",
       "      <td>0</td>\n",
       "    </tr>\n",
       "    <tr>\n",
       "      <th>4</th>\n",
       "      <td>4.0</td>\n",
       "      <td>3.0</td>\n",
       "      <td>2547.0</td>\n",
       "      <td>385100.0</td>\n",
       "      <td>0.0</td>\n",
       "      <td>1</td>\n",
       "      <td>0</td>\n",
       "      <td>0</td>\n",
       "      <td>0</td>\n",
       "      <td>0</td>\n",
       "      <td>...</td>\n",
       "      <td>0</td>\n",
       "      <td>0</td>\n",
       "      <td>0</td>\n",
       "      <td>0</td>\n",
       "      <td>0</td>\n",
       "      <td>0</td>\n",
       "      <td>0</td>\n",
       "      <td>0</td>\n",
       "      <td>0</td>\n",
       "      <td>0</td>\n",
       "    </tr>\n",
       "    <tr>\n",
       "      <th>5</th>\n",
       "      <td>3.0</td>\n",
       "      <td>1.0</td>\n",
       "      <td>1082.0</td>\n",
       "      <td>350000.0</td>\n",
       "      <td>0.0</td>\n",
       "      <td>1</td>\n",
       "      <td>0</td>\n",
       "      <td>0</td>\n",
       "      <td>0</td>\n",
       "      <td>0</td>\n",
       "      <td>...</td>\n",
       "      <td>0</td>\n",
       "      <td>0</td>\n",
       "      <td>0</td>\n",
       "      <td>0</td>\n",
       "      <td>0</td>\n",
       "      <td>0</td>\n",
       "      <td>0</td>\n",
       "      <td>0</td>\n",
       "      <td>0</td>\n",
       "      <td>0</td>\n",
       "    </tr>\n",
       "  </tbody>\n",
       "</table>\n",
       "<p>5 rows × 430 columns</p>\n",
       "</div>"
      ],
      "text/plain": [
       "   bed  bath    sqft     price  half_bath  IMPERIAL  KERN  LOS ANGELES  \\\n",
       "1  3.0   2.0   713.0  228500.0        0.0         1     0            0   \n",
       "2  3.0   1.0   800.0  273950.0        0.0         1     0            0   \n",
       "3  3.0   1.0  1082.0  350000.0        0.0         1     0            0   \n",
       "4  4.0   3.0  2547.0  385100.0        0.0         1     0            0   \n",
       "5  3.0   1.0  1082.0  350000.0        0.0         1     0            0   \n",
       "\n",
       "   ORANGE  RIVERSIDE  ...  WILDOMAR  WILMINGTON  WINCHESTER  WINNETKA  \\\n",
       "1       0          0  ...         0           0           0         0   \n",
       "2       0          0  ...         0           0           0         0   \n",
       "3       0          0  ...         0           0           0         0   \n",
       "4       0          0  ...         0           0           0         0   \n",
       "5       0          0  ...         0           0           0         0   \n",
       "\n",
       "   WOFFORD HEIGHTS  WOODLAND HILLS  WRIGHTWOOD  YORBA LINDA  YUCAIPA  \\\n",
       "1                0               0           0            0        0   \n",
       "2                0               0           0            0        0   \n",
       "3                0               0           0            0        0   \n",
       "4                0               0           0            0        0   \n",
       "5                0               0           0            0        0   \n",
       "\n",
       "   YUCCA VALLEY  \n",
       "1             0  \n",
       "2             0  \n",
       "3             0  \n",
       "4             0  \n",
       "5             0  \n",
       "\n",
       "[5 rows x 430 columns]"
      ]
     },
     "execution_count": 41,
     "metadata": {},
     "output_type": "execute_result"
    }
   ],
   "source": [
    "clean_df2.head()"
   ]
  },
  {
   "cell_type": "markdown",
   "metadata": {},
   "source": [
    "#### Scaling numeric data :"
   ]
  },
  {
   "cell_type": "code",
   "execution_count": 42,
   "metadata": {},
   "outputs": [],
   "source": [
    "max_price=max(clean_df2['price'])"
   ]
  },
  {
   "cell_type": "code",
   "execution_count": 43,
   "metadata": {},
   "outputs": [
    {
     "data": {
      "text/html": [
       "<div>\n",
       "<style scoped>\n",
       "    .dataframe tbody tr th:only-of-type {\n",
       "        vertical-align: middle;\n",
       "    }\n",
       "\n",
       "    .dataframe tbody tr th {\n",
       "        vertical-align: top;\n",
       "    }\n",
       "\n",
       "    .dataframe thead th {\n",
       "        text-align: right;\n",
       "    }\n",
       "</style>\n",
       "<table border=\"1\" class=\"dataframe\">\n",
       "  <thead>\n",
       "    <tr style=\"text-align: right;\">\n",
       "      <th></th>\n",
       "      <th>bed</th>\n",
       "      <th>bath</th>\n",
       "      <th>sqft</th>\n",
       "      <th>price</th>\n",
       "      <th>half_bath</th>\n",
       "      <th>IMPERIAL</th>\n",
       "      <th>KERN</th>\n",
       "      <th>LOS ANGELES</th>\n",
       "      <th>ORANGE</th>\n",
       "      <th>RIVERSIDE</th>\n",
       "      <th>...</th>\n",
       "      <th>WILDOMAR</th>\n",
       "      <th>WILMINGTON</th>\n",
       "      <th>WINCHESTER</th>\n",
       "      <th>WINNETKA</th>\n",
       "      <th>WOFFORD HEIGHTS</th>\n",
       "      <th>WOODLAND HILLS</th>\n",
       "      <th>WRIGHTWOOD</th>\n",
       "      <th>YORBA LINDA</th>\n",
       "      <th>YUCAIPA</th>\n",
       "      <th>YUCCA VALLEY</th>\n",
       "    </tr>\n",
       "  </thead>\n",
       "  <tbody>\n",
       "    <tr>\n",
       "      <th>1</th>\n",
       "      <td>0.181818</td>\n",
       "      <td>0.181818</td>\n",
       "      <td>0.020849</td>\n",
       "      <td>0.114250</td>\n",
       "      <td>0.0</td>\n",
       "      <td>1</td>\n",
       "      <td>0</td>\n",
       "      <td>0</td>\n",
       "      <td>0</td>\n",
       "      <td>0</td>\n",
       "      <td>...</td>\n",
       "      <td>0</td>\n",
       "      <td>0</td>\n",
       "      <td>0</td>\n",
       "      <td>0</td>\n",
       "      <td>0</td>\n",
       "      <td>0</td>\n",
       "      <td>0</td>\n",
       "      <td>0</td>\n",
       "      <td>0</td>\n",
       "      <td>0</td>\n",
       "    </tr>\n",
       "    <tr>\n",
       "      <th>2</th>\n",
       "      <td>0.181818</td>\n",
       "      <td>0.090909</td>\n",
       "      <td>0.025874</td>\n",
       "      <td>0.136975</td>\n",
       "      <td>0.0</td>\n",
       "      <td>1</td>\n",
       "      <td>0</td>\n",
       "      <td>0</td>\n",
       "      <td>0</td>\n",
       "      <td>0</td>\n",
       "      <td>...</td>\n",
       "      <td>0</td>\n",
       "      <td>0</td>\n",
       "      <td>0</td>\n",
       "      <td>0</td>\n",
       "      <td>0</td>\n",
       "      <td>0</td>\n",
       "      <td>0</td>\n",
       "      <td>0</td>\n",
       "      <td>0</td>\n",
       "      <td>0</td>\n",
       "    </tr>\n",
       "    <tr>\n",
       "      <th>3</th>\n",
       "      <td>0.181818</td>\n",
       "      <td>0.090909</td>\n",
       "      <td>0.042160</td>\n",
       "      <td>0.175000</td>\n",
       "      <td>0.0</td>\n",
       "      <td>1</td>\n",
       "      <td>0</td>\n",
       "      <td>0</td>\n",
       "      <td>0</td>\n",
       "      <td>0</td>\n",
       "      <td>...</td>\n",
       "      <td>0</td>\n",
       "      <td>0</td>\n",
       "      <td>0</td>\n",
       "      <td>0</td>\n",
       "      <td>0</td>\n",
       "      <td>0</td>\n",
       "      <td>0</td>\n",
       "      <td>0</td>\n",
       "      <td>0</td>\n",
       "      <td>0</td>\n",
       "    </tr>\n",
       "    <tr>\n",
       "      <th>4</th>\n",
       "      <td>0.272727</td>\n",
       "      <td>0.272727</td>\n",
       "      <td>0.126769</td>\n",
       "      <td>0.192550</td>\n",
       "      <td>0.0</td>\n",
       "      <td>1</td>\n",
       "      <td>0</td>\n",
       "      <td>0</td>\n",
       "      <td>0</td>\n",
       "      <td>0</td>\n",
       "      <td>...</td>\n",
       "      <td>0</td>\n",
       "      <td>0</td>\n",
       "      <td>0</td>\n",
       "      <td>0</td>\n",
       "      <td>0</td>\n",
       "      <td>0</td>\n",
       "      <td>0</td>\n",
       "      <td>0</td>\n",
       "      <td>0</td>\n",
       "      <td>0</td>\n",
       "    </tr>\n",
       "    <tr>\n",
       "      <th>5</th>\n",
       "      <td>0.181818</td>\n",
       "      <td>0.090909</td>\n",
       "      <td>0.042160</td>\n",
       "      <td>0.175000</td>\n",
       "      <td>0.0</td>\n",
       "      <td>1</td>\n",
       "      <td>0</td>\n",
       "      <td>0</td>\n",
       "      <td>0</td>\n",
       "      <td>0</td>\n",
       "      <td>...</td>\n",
       "      <td>0</td>\n",
       "      <td>0</td>\n",
       "      <td>0</td>\n",
       "      <td>0</td>\n",
       "      <td>0</td>\n",
       "      <td>0</td>\n",
       "      <td>0</td>\n",
       "      <td>0</td>\n",
       "      <td>0</td>\n",
       "      <td>0</td>\n",
       "    </tr>\n",
       "  </tbody>\n",
       "</table>\n",
       "<p>5 rows × 430 columns</p>\n",
       "</div>"
      ],
      "text/plain": [
       "        bed      bath      sqft     price  half_bath  IMPERIAL  KERN  \\\n",
       "1  0.181818  0.181818  0.020849  0.114250        0.0         1     0   \n",
       "2  0.181818  0.090909  0.025874  0.136975        0.0         1     0   \n",
       "3  0.181818  0.090909  0.042160  0.175000        0.0         1     0   \n",
       "4  0.272727  0.272727  0.126769  0.192550        0.0         1     0   \n",
       "5  0.181818  0.090909  0.042160  0.175000        0.0         1     0   \n",
       "\n",
       "   LOS ANGELES  ORANGE  RIVERSIDE  ...  WILDOMAR  WILMINGTON  WINCHESTER  \\\n",
       "1            0       0          0  ...         0           0           0   \n",
       "2            0       0          0  ...         0           0           0   \n",
       "3            0       0          0  ...         0           0           0   \n",
       "4            0       0          0  ...         0           0           0   \n",
       "5            0       0          0  ...         0           0           0   \n",
       "\n",
       "   WINNETKA  WOFFORD HEIGHTS  WOODLAND HILLS  WRIGHTWOOD  YORBA LINDA  \\\n",
       "1         0                0               0           0            0   \n",
       "2         0                0               0           0            0   \n",
       "3         0                0               0           0            0   \n",
       "4         0                0               0           0            0   \n",
       "5         0                0               0           0            0   \n",
       "\n",
       "   YUCAIPA  YUCCA VALLEY  \n",
       "1        0             0  \n",
       "2        0             0  \n",
       "3        0             0  \n",
       "4        0             0  \n",
       "5        0             0  \n",
       "\n",
       "[5 rows x 430 columns]"
      ]
     },
     "execution_count": 43,
     "metadata": {},
     "output_type": "execute_result"
    }
   ],
   "source": [
    "cs = MinMaxScaler()\n",
    "\n",
    "countinuous=['bed','bath','sqft','half_bath']\n",
    "\n",
    "clean_df2[countinuous] = cs.fit_transform(clean_df2[countinuous])\n",
    "\n",
    "clean_df2['price']=clean_df2['price']/max(clean_df2['price'])\n",
    "\n",
    "clean_df2.head()"
   ]
  },
  {
   "cell_type": "markdown",
   "metadata": {},
   "source": [
    "#### Scaling image data :"
   ]
  },
  {
   "cell_type": "code",
   "execution_count": 44,
   "metadata": {},
   "outputs": [],
   "source": [
    "gray_x_img=np.array(tf.image.rgb_to_grayscale(x_img))"
   ]
  },
  {
   "cell_type": "code",
   "execution_count": 45,
   "metadata": {},
   "outputs": [],
   "source": [
    "gray_x_img=gray_x_img/255."
   ]
  },
  {
   "cell_type": "code",
   "execution_count": 46,
   "metadata": {},
   "outputs": [
    {
     "data": {
      "image/png": "[encoded data removed]",
      "text/plain": [
       "<Figure size 432x288 with 1 Axes>"
      ]
     },
     "metadata": {
      "needs_background": "light"
     },
     "output_type": "display_data"
    }
   ],
   "source": [
    "### plotting picture number 22 \n",
    "plt.imshow(gray_x_img[22,:,:,0],cmap='gray')\n",
    "plt.show()"
   ]
  },
  {
   "cell_type": "code",
   "execution_count": 47,
   "metadata": {},
   "outputs": [],
   "source": [
    "clean_df2=clean_df2.reset_index()"
   ]
  },
  {
   "cell_type": "code",
   "execution_count": 48,
   "metadata": {},
   "outputs": [],
   "source": [
    "clean_df2=clean_df2.drop(['index'],axis=1)"
   ]
  },
  {
   "cell_type": "code",
   "execution_count": 49,
   "metadata": {},
   "outputs": [
    {
     "data": {
      "text/html": [
       "<div>\n",
       "<style scoped>\n",
       "    .dataframe tbody tr th:only-of-type {\n",
       "        vertical-align: middle;\n",
       "    }\n",
       "\n",
       "    .dataframe tbody tr th {\n",
       "        vertical-align: top;\n",
       "    }\n",
       "\n",
       "    .dataframe thead th {\n",
       "        text-align: right;\n",
       "    }\n",
       "</style>\n",
       "<table border=\"1\" class=\"dataframe\">\n",
       "  <thead>\n",
       "    <tr style=\"text-align: right;\">\n",
       "      <th></th>\n",
       "      <th>bed</th>\n",
       "      <th>bath</th>\n",
       "      <th>sqft</th>\n",
       "      <th>price</th>\n",
       "      <th>half_bath</th>\n",
       "      <th>IMPERIAL</th>\n",
       "      <th>KERN</th>\n",
       "      <th>LOS ANGELES</th>\n",
       "      <th>ORANGE</th>\n",
       "      <th>RIVERSIDE</th>\n",
       "      <th>...</th>\n",
       "      <th>WILDOMAR</th>\n",
       "      <th>WILMINGTON</th>\n",
       "      <th>WINCHESTER</th>\n",
       "      <th>WINNETKA</th>\n",
       "      <th>WOFFORD HEIGHTS</th>\n",
       "      <th>WOODLAND HILLS</th>\n",
       "      <th>WRIGHTWOOD</th>\n",
       "      <th>YORBA LINDA</th>\n",
       "      <th>YUCAIPA</th>\n",
       "      <th>YUCCA VALLEY</th>\n",
       "    </tr>\n",
       "  </thead>\n",
       "  <tbody>\n",
       "    <tr>\n",
       "      <th>0</th>\n",
       "      <td>0.181818</td>\n",
       "      <td>0.181818</td>\n",
       "      <td>0.020849</td>\n",
       "      <td>0.114250</td>\n",
       "      <td>0.0</td>\n",
       "      <td>1</td>\n",
       "      <td>0</td>\n",
       "      <td>0</td>\n",
       "      <td>0</td>\n",
       "      <td>0</td>\n",
       "      <td>...</td>\n",
       "      <td>0</td>\n",
       "      <td>0</td>\n",
       "      <td>0</td>\n",
       "      <td>0</td>\n",
       "      <td>0</td>\n",
       "      <td>0</td>\n",
       "      <td>0</td>\n",
       "      <td>0</td>\n",
       "      <td>0</td>\n",
       "      <td>0</td>\n",
       "    </tr>\n",
       "    <tr>\n",
       "      <th>1</th>\n",
       "      <td>0.181818</td>\n",
       "      <td>0.090909</td>\n",
       "      <td>0.025874</td>\n",
       "      <td>0.136975</td>\n",
       "      <td>0.0</td>\n",
       "      <td>1</td>\n",
       "      <td>0</td>\n",
       "      <td>0</td>\n",
       "      <td>0</td>\n",
       "      <td>0</td>\n",
       "      <td>...</td>\n",
       "      <td>0</td>\n",
       "      <td>0</td>\n",
       "      <td>0</td>\n",
       "      <td>0</td>\n",
       "      <td>0</td>\n",
       "      <td>0</td>\n",
       "      <td>0</td>\n",
       "      <td>0</td>\n",
       "      <td>0</td>\n",
       "      <td>0</td>\n",
       "    </tr>\n",
       "    <tr>\n",
       "      <th>2</th>\n",
       "      <td>0.181818</td>\n",
       "      <td>0.090909</td>\n",
       "      <td>0.042160</td>\n",
       "      <td>0.175000</td>\n",
       "      <td>0.0</td>\n",
       "      <td>1</td>\n",
       "      <td>0</td>\n",
       "      <td>0</td>\n",
       "      <td>0</td>\n",
       "      <td>0</td>\n",
       "      <td>...</td>\n",
       "      <td>0</td>\n",
       "      <td>0</td>\n",
       "      <td>0</td>\n",
       "      <td>0</td>\n",
       "      <td>0</td>\n",
       "      <td>0</td>\n",
       "      <td>0</td>\n",
       "      <td>0</td>\n",
       "      <td>0</td>\n",
       "      <td>0</td>\n",
       "    </tr>\n",
       "    <tr>\n",
       "      <th>3</th>\n",
       "      <td>0.272727</td>\n",
       "      <td>0.272727</td>\n",
       "      <td>0.126769</td>\n",
       "      <td>0.192550</td>\n",
       "      <td>0.0</td>\n",
       "      <td>1</td>\n",
       "      <td>0</td>\n",
       "      <td>0</td>\n",
       "      <td>0</td>\n",
       "      <td>0</td>\n",
       "      <td>...</td>\n",
       "      <td>0</td>\n",
       "      <td>0</td>\n",
       "      <td>0</td>\n",
       "      <td>0</td>\n",
       "      <td>0</td>\n",
       "      <td>0</td>\n",
       "      <td>0</td>\n",
       "      <td>0</td>\n",
       "      <td>0</td>\n",
       "      <td>0</td>\n",
       "    </tr>\n",
       "    <tr>\n",
       "      <th>4</th>\n",
       "      <td>0.181818</td>\n",
       "      <td>0.090909</td>\n",
       "      <td>0.042160</td>\n",
       "      <td>0.175000</td>\n",
       "      <td>0.0</td>\n",
       "      <td>1</td>\n",
       "      <td>0</td>\n",
       "      <td>0</td>\n",
       "      <td>0</td>\n",
       "      <td>0</td>\n",
       "      <td>...</td>\n",
       "      <td>0</td>\n",
       "      <td>0</td>\n",
       "      <td>0</td>\n",
       "      <td>0</td>\n",
       "      <td>0</td>\n",
       "      <td>0</td>\n",
       "      <td>0</td>\n",
       "      <td>0</td>\n",
       "      <td>0</td>\n",
       "      <td>0</td>\n",
       "    </tr>\n",
       "  </tbody>\n",
       "</table>\n",
       "<p>5 rows × 430 columns</p>\n",
       "</div>"
      ],
      "text/plain": [
       "        bed      bath      sqft     price  half_bath  IMPERIAL  KERN  \\\n",
       "0  0.181818  0.181818  0.020849  0.114250        0.0         1     0   \n",
       "1  0.181818  0.090909  0.025874  0.136975        0.0         1     0   \n",
       "2  0.181818  0.090909  0.042160  0.175000        0.0         1     0   \n",
       "3  0.272727  0.272727  0.126769  0.192550        0.0         1     0   \n",
       "4  0.181818  0.090909  0.042160  0.175000        0.0         1     0   \n",
       "\n",
       "   LOS ANGELES  ORANGE  RIVERSIDE  ...  WILDOMAR  WILMINGTON  WINCHESTER  \\\n",
       "0            0       0          0  ...         0           0           0   \n",
       "1            0       0          0  ...         0           0           0   \n",
       "2            0       0          0  ...         0           0           0   \n",
       "3            0       0          0  ...         0           0           0   \n",
       "4            0       0          0  ...         0           0           0   \n",
       "\n",
       "   WINNETKA  WOFFORD HEIGHTS  WOODLAND HILLS  WRIGHTWOOD  YORBA LINDA  \\\n",
       "0         0                0               0           0            0   \n",
       "1         0                0               0           0            0   \n",
       "2         0                0               0           0            0   \n",
       "3         0                0               0           0            0   \n",
       "4         0                0               0           0            0   \n",
       "\n",
       "   YUCAIPA  YUCCA VALLEY  \n",
       "0        0             0  \n",
       "1        0             0  \n",
       "2        0             0  \n",
       "3        0             0  \n",
       "4        0             0  \n",
       "\n",
       "[5 rows x 430 columns]"
      ]
     },
     "execution_count": 49,
     "metadata": {},
     "output_type": "execute_result"
    }
   ],
   "source": [
    "clean_df2.head()"
   ]
  },
  {
   "cell_type": "markdown",
   "metadata": {},
   "source": [
    "*now our data frame and images have matching indexes*"
   ]
  },
  {
   "cell_type": "code",
   "execution_count": 50,
   "metadata": {},
   "outputs": [
    {
     "name": "stdout",
     "output_type": "stream",
     "text": [
      "(15266, 430)\n",
      "(15266, 64, 64, 1)\n"
     ]
    }
   ],
   "source": [
    "print(clean_df2.shape)\n",
    "print(gray_x_img.shape)"
   ]
  },
  {
   "cell_type": "markdown",
   "metadata": {},
   "source": [
    "### Test/Train split :"
   ]
  },
  {
   "cell_type": "code",
   "execution_count": 51,
   "metadata": {},
   "outputs": [],
   "source": [
    "###creating test and train data frames\n",
    "df_train=clean_df2.sample(frac=0.93,replace=False) #,random_state=15\n",
    "df_test=clean_df2.drop(df_train.index)\n",
    "###creating test and train image inputs\n",
    "train_x_img_gray=gray_x_img[(df_train.index),:,:,:]\n",
    "test_x_img_gray=gray_x_img[(df_test.index),:,:,:]\n",
    "\n"
   ]
  },
  {
   "cell_type": "code",
   "execution_count": 52,
   "metadata": {},
   "outputs": [],
   "source": [
    "### creating test and train outputs\n",
    "train_y=df_train['price']\n",
    "test_y=df_test['price']\n",
    "###creating test and train numeric/one-hot inputs\n",
    "train_x=df_train.drop(['price'],axis=1)\n",
    "test_x=df_test.drop(['price'],axis=1)"
   ]
  },
  {
   "cell_type": "code",
   "execution_count": 53,
   "metadata": {},
   "outputs": [
    {
     "name": "stdout",
     "output_type": "stream",
     "text": [
      "(14197, 429)\n",
      "(14197, 64, 64, 1)\n",
      "(14197,)\n",
      "(1069, 429)\n",
      "(1069, 64, 64, 1)\n",
      "(1069,)\n"
     ]
    }
   ],
   "source": [
    "print(train_x.shape)\n",
    "print(train_x_img_gray.shape)\n",
    "print(train_y.shape)\n",
    "\n",
    "print(test_x.shape)\n",
    "print(test_x_img_gray.shape)\n",
    "print(test_y.shape)"
   ]
  },
  {
   "cell_type": "code",
   "execution_count": 54,
   "metadata": {},
   "outputs": [
    {
     "data": {
      "text/html": [
       "<div>\n",
       "<style scoped>\n",
       "    .dataframe tbody tr th:only-of-type {\n",
       "        vertical-align: middle;\n",
       "    }\n",
       "\n",
       "    .dataframe tbody tr th {\n",
       "        vertical-align: top;\n",
       "    }\n",
       "\n",
       "    .dataframe thead th {\n",
       "        text-align: right;\n",
       "    }\n",
       "</style>\n",
       "<table border=\"1\" class=\"dataframe\">\n",
       "  <thead>\n",
       "    <tr style=\"text-align: right;\">\n",
       "      <th></th>\n",
       "      <th>bed</th>\n",
       "      <th>bath</th>\n",
       "      <th>sqft</th>\n",
       "      <th>half_bath</th>\n",
       "      <th>IMPERIAL</th>\n",
       "      <th>KERN</th>\n",
       "      <th>LOS ANGELES</th>\n",
       "      <th>ORANGE</th>\n",
       "      <th>RIVERSIDE</th>\n",
       "      <th>SAN BERNARDINO</th>\n",
       "      <th>...</th>\n",
       "      <th>WILDOMAR</th>\n",
       "      <th>WILMINGTON</th>\n",
       "      <th>WINCHESTER</th>\n",
       "      <th>WINNETKA</th>\n",
       "      <th>WOFFORD HEIGHTS</th>\n",
       "      <th>WOODLAND HILLS</th>\n",
       "      <th>WRIGHTWOOD</th>\n",
       "      <th>YORBA LINDA</th>\n",
       "      <th>YUCAIPA</th>\n",
       "      <th>YUCCA VALLEY</th>\n",
       "    </tr>\n",
       "  </thead>\n",
       "  <tbody>\n",
       "    <tr>\n",
       "      <th>14150</th>\n",
       "      <td>0.181818</td>\n",
       "      <td>0.181818</td>\n",
       "      <td>0.060237</td>\n",
       "      <td>0.0</td>\n",
       "      <td>0</td>\n",
       "      <td>0</td>\n",
       "      <td>0</td>\n",
       "      <td>0</td>\n",
       "      <td>0</td>\n",
       "      <td>0</td>\n",
       "      <td>...</td>\n",
       "      <td>0</td>\n",
       "      <td>0</td>\n",
       "      <td>0</td>\n",
       "      <td>0</td>\n",
       "      <td>0</td>\n",
       "      <td>0</td>\n",
       "      <td>0</td>\n",
       "      <td>0</td>\n",
       "      <td>0</td>\n",
       "      <td>0</td>\n",
       "    </tr>\n",
       "    <tr>\n",
       "      <th>3523</th>\n",
       "      <td>0.090909</td>\n",
       "      <td>0.181818</td>\n",
       "      <td>0.034190</td>\n",
       "      <td>0.0</td>\n",
       "      <td>0</td>\n",
       "      <td>0</td>\n",
       "      <td>0</td>\n",
       "      <td>1</td>\n",
       "      <td>0</td>\n",
       "      <td>0</td>\n",
       "      <td>...</td>\n",
       "      <td>0</td>\n",
       "      <td>0</td>\n",
       "      <td>0</td>\n",
       "      <td>0</td>\n",
       "      <td>0</td>\n",
       "      <td>0</td>\n",
       "      <td>0</td>\n",
       "      <td>0</td>\n",
       "      <td>0</td>\n",
       "      <td>0</td>\n",
       "    </tr>\n",
       "    <tr>\n",
       "      <th>5944</th>\n",
       "      <td>0.363636</td>\n",
       "      <td>0.272727</td>\n",
       "      <td>0.157667</td>\n",
       "      <td>0.0</td>\n",
       "      <td>0</td>\n",
       "      <td>0</td>\n",
       "      <td>0</td>\n",
       "      <td>0</td>\n",
       "      <td>1</td>\n",
       "      <td>0</td>\n",
       "      <td>...</td>\n",
       "      <td>0</td>\n",
       "      <td>0</td>\n",
       "      <td>0</td>\n",
       "      <td>0</td>\n",
       "      <td>0</td>\n",
       "      <td>0</td>\n",
       "      <td>0</td>\n",
       "      <td>0</td>\n",
       "      <td>0</td>\n",
       "      <td>0</td>\n",
       "    </tr>\n",
       "    <tr>\n",
       "      <th>15068</th>\n",
       "      <td>0.272727</td>\n",
       "      <td>0.272727</td>\n",
       "      <td>0.094485</td>\n",
       "      <td>0.0</td>\n",
       "      <td>0</td>\n",
       "      <td>0</td>\n",
       "      <td>0</td>\n",
       "      <td>0</td>\n",
       "      <td>0</td>\n",
       "      <td>0</td>\n",
       "      <td>...</td>\n",
       "      <td>0</td>\n",
       "      <td>0</td>\n",
       "      <td>0</td>\n",
       "      <td>0</td>\n",
       "      <td>0</td>\n",
       "      <td>0</td>\n",
       "      <td>0</td>\n",
       "      <td>0</td>\n",
       "      <td>0</td>\n",
       "      <td>0</td>\n",
       "    </tr>\n",
       "    <tr>\n",
       "      <th>6503</th>\n",
       "      <td>0.272727</td>\n",
       "      <td>0.272727</td>\n",
       "      <td>0.144961</td>\n",
       "      <td>0.0</td>\n",
       "      <td>0</td>\n",
       "      <td>0</td>\n",
       "      <td>0</td>\n",
       "      <td>0</td>\n",
       "      <td>1</td>\n",
       "      <td>0</td>\n",
       "      <td>...</td>\n",
       "      <td>0</td>\n",
       "      <td>0</td>\n",
       "      <td>1</td>\n",
       "      <td>0</td>\n",
       "      <td>0</td>\n",
       "      <td>0</td>\n",
       "      <td>0</td>\n",
       "      <td>0</td>\n",
       "      <td>0</td>\n",
       "      <td>0</td>\n",
       "    </tr>\n",
       "  </tbody>\n",
       "</table>\n",
       "<p>5 rows × 429 columns</p>\n",
       "</div>"
      ],
      "text/plain": [
       "            bed      bath      sqft  half_bath  IMPERIAL  KERN  LOS ANGELES  \\\n",
       "14150  0.181818  0.181818  0.060237        0.0         0     0            0   \n",
       "3523   0.090909  0.181818  0.034190        0.0         0     0            0   \n",
       "5944   0.363636  0.272727  0.157667        0.0         0     0            0   \n",
       "15068  0.272727  0.272727  0.094485        0.0         0     0            0   \n",
       "6503   0.272727  0.272727  0.144961        0.0         0     0            0   \n",
       "\n",
       "       ORANGE  RIVERSIDE  SAN BERNARDINO  ...  WILDOMAR  WILMINGTON  \\\n",
       "14150       0          0               0  ...         0           0   \n",
       "3523        1          0               0  ...         0           0   \n",
       "5944        0          1               0  ...         0           0   \n",
       "15068       0          0               0  ...         0           0   \n",
       "6503        0          1               0  ...         0           0   \n",
       "\n",
       "       WINCHESTER  WINNETKA  WOFFORD HEIGHTS  WOODLAND HILLS  WRIGHTWOOD  \\\n",
       "14150           0         0                0               0           0   \n",
       "3523            0         0                0               0           0   \n",
       "5944            0         0                0               0           0   \n",
       "15068           0         0                0               0           0   \n",
       "6503            1         0                0               0           0   \n",
       "\n",
       "       YORBA LINDA  YUCAIPA  YUCCA VALLEY  \n",
       "14150            0        0             0  \n",
       "3523             0        0             0  \n",
       "5944             0        0             0  \n",
       "15068            0        0             0  \n",
       "6503             0        0             0  \n",
       "\n",
       "[5 rows x 429 columns]"
      ]
     },
     "execution_count": 54,
     "metadata": {},
     "output_type": "execute_result"
    }
   ],
   "source": [
    "train_x.head(5)"
   ]
  },
  {
   "cell_type": "markdown",
   "metadata": {},
   "source": [
    "## Start training"
   ]
  },
  {
   "cell_type": "markdown",
   "metadata": {},
   "source": [
    "***First, we'll fit a fully connected network based on our numeric data; then we'll fit a merged network of FC and CNN to see whether the images will help us predict better or not.***"
   ]
  },
  {
   "cell_type": "markdown",
   "metadata": {},
   "source": [
    "#### Import required modules"
   ]
  },
  {
   "cell_type": "code",
   "execution_count": 55,
   "metadata": {},
   "outputs": [],
   "source": [
    "from tensorflow.keras.layers import Conv2D, MaxPooling2D, Flatten, Dense, Dropout , Concatenate, Input , BatchNormalization\n",
    "from tensorflow.keras.optimizers import SGD, Adam\n",
    "from tensorflow.keras.utils import plot_model\n",
    "from tensorflow.keras import Model"
   ]
  },
  {
   "cell_type": "code",
   "execution_count": 56,
   "metadata": {},
   "outputs": [],
   "source": [
    "def plot_model(history):\n",
    "    df=pd.DataFrame(history.history)\n",
    "    plt.plot(df['val_loss'])\n",
    "    plt.plot(df['loss'])\n",
    "    plt.xlabel('Epochs')\n",
    "    plt.ylabel('Loss')\n",
    "    plt.legend(['validation loss','training loss'], loc='upper right')\n",
    "    plt.title('Loss of train/validation sets vs Epochs')\n",
    "    plt.show()"
   ]
  },
  {
   "cell_type": "markdown",
   "metadata": {},
   "source": [
    "***Trying FC alone***"
   ]
  },
  {
   "cell_type": "markdown",
   "metadata": {},
   "source": [
    "with 429 input variables including cities"
   ]
  },
  {
   "cell_type": "code",
   "execution_count": 57,
   "metadata": {},
   "outputs": [
    {
     "name": "stdout",
     "output_type": "stream",
     "text": [
      "Model: \"model\"\n",
      "_________________________________________________________________\n",
      "Layer (type)                 Output Shape              Param #   \n",
      "=================================================================\n",
      "input_1 (InputLayer)         [(None, 429)]             0         \n",
      "_________________________________________________________________\n",
      "dense (Dense)                (None, 256)               110080    \n",
      "_________________________________________________________________\n",
      "dropout (Dropout)            (None, 256)               0         \n",
      "_________________________________________________________________\n",
      "batch_normalization (BatchNo (None, 256)               1024      \n",
      "_________________________________________________________________\n",
      "dense_1 (Dense)              (None, 128)               32896     \n",
      "_________________________________________________________________\n",
      "batch_normalization_1 (Batch (None, 128)               512       \n",
      "_________________________________________________________________\n",
      "dense_2 (Dense)              (None, 32)                4128      \n",
      "_________________________________________________________________\n",
      "batch_normalization_2 (Batch (None, 32)                128       \n",
      "_________________________________________________________________\n",
      "dense_3 (Dense)              (None, 16)                528       \n",
      "_________________________________________________________________\n",
      "batch_normalization_3 (Batch (None, 16)                64        \n",
      "_________________________________________________________________\n",
      "dense_4 (Dense)              (None, 1)                 17        \n",
      "=================================================================\n",
      "Total params: 149,377\n",
      "Trainable params: 148,513\n",
      "Non-trainable params: 864\n",
      "_________________________________________________________________\n"
     ]
    }
   ],
   "source": [
    "### Regression by a fully connected network\n",
    "input_model_1 = Input(train_x.shape[1])\n",
    "\n",
    "model_1=Dense(256,activation='tanh')(input_model_1)\n",
    "model_1=Dropout(0.1)(model_1)\n",
    "model_1=BatchNormalization()(model_1)\n",
    "\n",
    "model_1=Dense(128,activation='tanh')(model_1)\n",
    "model_1=BatchNormalization()(model_1)\n",
    "\n",
    "model_1=Dense(32,activation='tanh')(model_1)\n",
    "model_1=BatchNormalization()(model_1)\n",
    "\n",
    "model_1=Dense(16,activation='tanh')(model_1)\n",
    "model_1=BatchNormalization()(model_1)\n",
    "\n",
    "output=Dense(1,activation='linear')(model_1)\n",
    "\n",
    "model_1=Model(inputs=input_model_1,outputs=output)\n",
    "model_1.summary()"
   ]
  },
  {
   "cell_type": "code",
   "execution_count": 58,
   "metadata": {
    "scrolled": true
   },
   "outputs": [
    {
     "name": "stdout",
     "output_type": "stream",
     "text": [
      "Train on 12777 samples, validate on 1420 samples\n",
      "Epoch 1/30\n",
      "12777/12777 [==============================] - 3s 222us/sample - loss: 0.0971 - val_loss: 0.0228\n",
      "Epoch 2/30\n",
      "12777/12777 [==============================] - 2s 127us/sample - loss: 0.0269 - val_loss: 0.0174\n",
      "Epoch 3/30\n",
      "12777/12777 [==============================] - 2s 127us/sample - loss: 0.0214 - val_loss: 0.0152\n",
      "Epoch 4/30\n",
      "12777/12777 [==============================] - 2s 128us/sample - loss: 0.0176 - val_loss: 0.0136\n",
      "Epoch 5/30\n",
      "12777/12777 [==============================] - 2s 127us/sample - loss: 0.0163 - val_loss: 0.0128\n",
      "Epoch 6/30\n",
      "12777/12777 [==============================] - 2s 128us/sample - loss: 0.0152 - val_loss: 0.0129\n",
      "Epoch 7/30\n",
      "12777/12777 [==============================] - 2s 127us/sample - loss: 0.0143 - val_loss: 0.0129\n",
      "Epoch 8/30\n",
      "12777/12777 [==============================] - 2s 132us/sample - loss: 0.0133 - val_loss: 0.0125\n",
      "Epoch 9/30\n",
      "12777/12777 [==============================] - 2s 128us/sample - loss: 0.0133 - val_loss: 0.0118\n",
      "Epoch 10/30\n",
      "12777/12777 [==============================] - 2s 127us/sample - loss: 0.0128 - val_loss: 0.0118\n",
      "Epoch 11/30\n",
      "12777/12777 [==============================] - 2s 128us/sample - loss: 0.0122 - val_loss: 0.0114\n",
      "Epoch 12/30\n",
      "12777/12777 [==============================] - 2s 127us/sample - loss: 0.0126 - val_loss: 0.0114\n",
      "Epoch 13/30\n",
      "12777/12777 [==============================] - 2s 126us/sample - loss: 0.0118 - val_loss: 0.0122\n",
      "Epoch 14/30\n",
      "12777/12777 [==============================] - 2s 126us/sample - loss: 0.0117 - val_loss: 0.0115\n",
      "Epoch 15/30\n",
      "12777/12777 [==============================] - 2s 127us/sample - loss: 0.0118 - val_loss: 0.0126\n",
      "Epoch 16/30\n",
      "12777/12777 [==============================] - 2s 126us/sample - loss: 0.0117 - val_loss: 0.0111\n",
      "Epoch 17/30\n",
      "12777/12777 [==============================] - 2s 128us/sample - loss: 0.0115 - val_loss: 0.0119\n",
      "Epoch 18/30\n",
      "12777/12777 [==============================] - 2s 129us/sample - loss: 0.0112 - val_loss: 0.0112\n",
      "Epoch 19/30\n",
      "12777/12777 [==============================] - 2s 127us/sample - loss: 0.0114 - val_loss: 0.0114\n",
      "Epoch 20/30\n",
      "12777/12777 [==============================] - 2s 130us/sample - loss: 0.0114 - val_loss: 0.0115\n",
      "Epoch 21/30\n",
      "12777/12777 [==============================] - 2s 144us/sample - loss: 0.0107 - val_loss: 0.0111\n",
      "Epoch 22/30\n",
      "12777/12777 [==============================] - 2s 141us/sample - loss: 0.0111 - val_loss: 0.0113\n",
      "Epoch 23/30\n",
      "12777/12777 [==============================] - 2s 126us/sample - loss: 0.0109 - val_loss: 0.0107\n",
      "Epoch 24/30\n",
      "12777/12777 [==============================] - 2s 127us/sample - loss: 0.0110 - val_loss: 0.0112\n",
      "Epoch 25/30\n",
      "12777/12777 [==============================] - 2s 127us/sample - loss: 0.0108 - val_loss: 0.0110\n",
      "Epoch 26/30\n",
      "12777/12777 [==============================] - 2s 130us/sample - loss: 0.0107 - val_loss: 0.0110\n",
      "Epoch 27/30\n",
      "12777/12777 [==============================] - 2s 129us/sample - loss: 0.0103 - val_loss: 0.0108\n",
      "Epoch 28/30\n",
      "12777/12777 [==============================] - 2s 127us/sample - loss: 0.0105 - val_loss: 0.0114\n",
      "Epoch 29/30\n",
      "12777/12777 [==============================] - 2s 126us/sample - loss: 0.0102 - val_loss: 0.0106\n",
      "Epoch 30/30\n",
      "12777/12777 [==============================] - 2s 126us/sample - loss: 0.0101 - val_loss: 0.0109\n"
     ]
    }
   ],
   "source": [
    "model_1.compile(optimizer='adam', loss='mse')\n",
    "\n",
    "history_1 = model_1.fit(x =train_x, y = train_y,batch_size =32,epochs=30,validation_split = 0.1,verbose=1)"
   ]
  },
  {
   "cell_type": "code",
   "execution_count": 59,
   "metadata": {
    "scrolled": true
   },
   "outputs": [
    {
     "data": {
      "image/png": "[encoded data removed]",
      "text/plain": [
       "<Figure size 432x288 with 1 Axes>"
      ]
     },
     "metadata": {
      "needs_background": "light"
     },
     "output_type": "display_data"
    }
   ],
   "source": [
    "plot_model(history_1)\n"
   ]
  },
  {
   "cell_type": "code",
   "execution_count": 60,
   "metadata": {},
   "outputs": [
    {
     "name": "stdout",
     "output_type": "stream",
     "text": [
      "1069/1069 [==============================] - 0s 44us/sample - loss: 0.0134\n"
     ]
    },
    {
     "data": {
      "text/plain": [
       "0.013419862279896708"
      ]
     },
     "execution_count": 60,
     "metadata": {},
     "output_type": "execute_result"
    }
   ],
   "source": [
    "model_1.evaluate(test_x,test_y)"
   ]
  },
  {
   "cell_type": "code",
   "execution_count": 61,
   "metadata": {},
   "outputs": [
    {
     "data": {
      "text/plain": [
       "1089     300000.0\n",
       "448      998000.0\n",
       "375     1150000.0\n",
       "6251     490000.0\n",
       "2919     999999.0\n",
       "Name: price, dtype: float64"
      ]
     },
     "execution_count": 61,
     "metadata": {},
     "output_type": "execute_result"
    }
   ],
   "source": [
    "test_y.iloc[[74,31,23,426,200]]*max_price"
   ]
  },
  {
   "cell_type": "code",
   "execution_count": 62,
   "metadata": {
    "scrolled": true
   },
   "outputs": [
    {
     "data": {
      "text/plain": [
       "array([[ 321093.7 ],\n",
       "       [1033967.1 ],\n",
       "       [ 670869.75],\n",
       "       [ 542481.8 ],\n",
       "       [1146654.6 ]], dtype=float32)"
      ]
     },
     "execution_count": 62,
     "metadata": {},
     "output_type": "execute_result"
    }
   ],
   "source": [
    "model_1.predict(test_x)[[74,31,23,426,200]]*max_price"
   ]
  },
  {
   "cell_type": "markdown",
   "metadata": {},
   "source": [
    "____________"
   ]
  },
  {
   "cell_type": "markdown",
   "metadata": {},
   "source": [
    "______________"
   ]
  },
  {
   "cell_type": "markdown",
   "metadata": {},
   "source": [
    "***Merged Model***"
   ]
  },
  {
   "cell_type": "code",
   "execution_count": 63,
   "metadata": {},
   "outputs": [],
   "source": [
    "###model 1 is CNN branch\n",
    "input_model_cnn= Input( (train_x_img_gray.shape[1:]) )\n",
    "\n",
    "model_cnn=Conv2D(8,(5,5),activation='relu', padding='valid',name='conv_1')(input_model_cnn)\n",
    "model_cnn=BatchNormalization()(model_cnn)\n",
    "model_cnn=Dropout(0.1)(model_cnn)\n",
    "model_cnn=MaxPooling2D(pool_size=(3,3))(model_cnn)\n",
    "\n",
    "model_cnn=Conv2D(16,(3,3),activation='relu', padding='valid',name='conv_2')(model_cnn)\n",
    "model_cnn=MaxPooling2D(pool_size=(2,2))(model_cnn)\n",
    "\n",
    "model_cnn=Conv2D(32,(3,3),activation='relu',padding='valid',name='conv_3')(model_cnn)\n",
    "model_cnn=MaxPooling2D(pool_size=(2,2))(model_cnn)\n",
    "\n",
    "model_cnn=Conv2D(64,(3,3),activation='relu',padding='valid',name='conv_4')(model_cnn)\n",
    "model_cnn=Flatten()(model_cnn)\n",
    "model_cnn=Dropout(0.1)(model_cnn)"
   ]
  },
  {
   "cell_type": "code",
   "execution_count": 64,
   "metadata": {},
   "outputs": [],
   "source": [
    "input_model_fc = Input(train_x.shape[1])\n",
    "\n",
    "model_fc=Dense(128,activation='tanh')(input_model_fc)\n",
    "model_fc=Dropout(0.1)(model_fc)\n",
    "model_fc=Dense(84,activation='tanh')(model_fc)\n",
    "model_fc=Dense(64,activation='tanh')(model_fc)\n",
    "model_fc=Dropout(0.1)(model_fc)"
   ]
  },
  {
   "cell_type": "code",
   "execution_count": 65,
   "metadata": {},
   "outputs": [
    {
     "name": "stdout",
     "output_type": "stream",
     "text": [
      "Model: \"model_1\"\n",
      "__________________________________________________________________________________________________\n",
      "Layer (type)                    Output Shape         Param #     Connected to                     \n",
      "==================================================================================================\n",
      "input_2 (InputLayer)            [(None, 64, 64, 1)]  0                                            \n",
      "__________________________________________________________________________________________________\n",
      "conv_1 (Conv2D)                 (None, 60, 60, 8)    208         input_2[0][0]                    \n",
      "__________________________________________________________________________________________________\n",
      "batch_normalization_4 (BatchNor (None, 60, 60, 8)    32          conv_1[0][0]                     \n",
      "__________________________________________________________________________________________________\n",
      "dropout_1 (Dropout)             (None, 60, 60, 8)    0           batch_normalization_4[0][0]      \n",
      "__________________________________________________________________________________________________\n",
      "max_pooling2d (MaxPooling2D)    (None, 20, 20, 8)    0           dropout_1[0][0]                  \n",
      "__________________________________________________________________________________________________\n",
      "conv_2 (Conv2D)                 (None, 18, 18, 16)   1168        max_pooling2d[0][0]              \n",
      "__________________________________________________________________________________________________\n",
      "max_pooling2d_1 (MaxPooling2D)  (None, 9, 9, 16)     0           conv_2[0][0]                     \n",
      "__________________________________________________________________________________________________\n",
      "input_3 (InputLayer)            [(None, 429)]        0                                            \n",
      "__________________________________________________________________________________________________\n",
      "conv_3 (Conv2D)                 (None, 7, 7, 32)     4640        max_pooling2d_1[0][0]            \n",
      "__________________________________________________________________________________________________\n",
      "dense_5 (Dense)                 (None, 128)          55040       input_3[0][0]                    \n",
      "__________________________________________________________________________________________________\n",
      "max_pooling2d_2 (MaxPooling2D)  (None, 3, 3, 32)     0           conv_3[0][0]                     \n",
      "__________________________________________________________________________________________________\n",
      "dropout_3 (Dropout)             (None, 128)          0           dense_5[0][0]                    \n",
      "__________________________________________________________________________________________________\n",
      "conv_4 (Conv2D)                 (None, 1, 1, 64)     18496       max_pooling2d_2[0][0]            \n",
      "__________________________________________________________________________________________________\n",
      "dense_6 (Dense)                 (None, 84)           10836       dropout_3[0][0]                  \n",
      "__________________________________________________________________________________________________\n",
      "flatten (Flatten)               (None, 64)           0           conv_4[0][0]                     \n",
      "__________________________________________________________________________________________________\n",
      "dense_7 (Dense)                 (None, 64)           5440        dense_6[0][0]                    \n",
      "__________________________________________________________________________________________________\n",
      "dropout_2 (Dropout)             (None, 64)           0           flatten[0][0]                    \n",
      "__________________________________________________________________________________________________\n",
      "dropout_4 (Dropout)             (None, 64)           0           dense_7[0][0]                    \n",
      "__________________________________________________________________________________________________\n",
      "concatenate (Concatenate)       (None, 128)          0           dropout_2[0][0]                  \n",
      "                                                                 dropout_4[0][0]                  \n",
      "__________________________________________________________________________________________________\n",
      "dense_8 (Dense)                 (None, 64)           8256        concatenate[0][0]                \n",
      "__________________________________________________________________________________________________\n",
      "dense_9 (Dense)                 (None, 32)           2080        dense_8[0][0]                    \n",
      "__________________________________________________________________________________________________\n",
      "dropout_5 (Dropout)             (None, 32)           0           dense_9[0][0]                    \n",
      "__________________________________________________________________________________________________\n",
      "dense_10 (Dense)                (None, 8)            264         dropout_5[0][0]                  \n",
      "__________________________________________________________________________________________________\n",
      "dropout_6 (Dropout)             (None, 8)            0           dense_10[0][0]                   \n",
      "__________________________________________________________________________________________________\n",
      "dense_11 (Dense)                (None, 1)            9           dropout_6[0][0]                  \n",
      "==================================================================================================\n",
      "Total params: 106,469\n",
      "Trainable params: 106,453\n",
      "Non-trainable params: 16\n",
      "__________________________________________________________________________________________________\n"
     ]
    }
   ],
   "source": [
    "input_comb_model=Concatenate()([model_cnn,model_fc])\n",
    "\n",
    "comb_model=Dense(64,activation='relu')(input_comb_model)\n",
    "\n",
    "\n",
    "comb_model=Dense(32,activation='relu')(comb_model)\n",
    "comb_model=Dropout(0.2)(comb_model)\n",
    "\n",
    "comb_model=Dense(8,activation='relu')(comb_model)\n",
    "comb_model=Dropout(0.25)(comb_model)\n",
    "\n",
    "\n",
    "comb_model=Dense(1,activation='linear')(comb_model)\n",
    "\n",
    "comb_model=Model(inputs=[input_model_cnn,input_model_fc], outputs=comb_model)\n",
    "\n",
    "comb_model.summary()"
   ]
  },
  {
   "cell_type": "code",
   "execution_count": 73,
   "metadata": {
    "scrolled": true
   },
   "outputs": [
    {
     "name": "stdout",
     "output_type": "stream",
     "text": [
      "Train on 13061 samples, validate on 1136 samples\n",
      "Epoch 1/30\n",
      "13061/13061 [==============================] - 3s 230us/sample - loss: 0.0069 - val_loss: 0.0105\n",
      "Epoch 2/30\n",
      "13061/13061 [==============================] - 2s 160us/sample - loss: 0.0070 - val_loss: 0.0117\n",
      "Epoch 3/30\n",
      "13061/13061 [==============================] - 2s 162us/sample - loss: 0.0067 - val_loss: 0.0110\n",
      "Epoch 4/30\n",
      "13061/13061 [==============================] - 2s 160us/sample - loss: 0.0072 - val_loss: 0.0117\n",
      "Epoch 5/30\n",
      "13061/13061 [==============================] - 2s 161us/sample - loss: 0.0068 - val_loss: 0.0108\n",
      "Epoch 6/30\n",
      "13061/13061 [==============================] - 2s 161us/sample - loss: 0.0068 - val_loss: 0.0110\n",
      "Epoch 7/30\n",
      "13061/13061 [==============================] - 2s 161us/sample - loss: 0.0070 - val_loss: 0.0110\n",
      "Epoch 8/30\n",
      "13061/13061 [==============================] - 2s 160us/sample - loss: 0.0067 - val_loss: 0.0114\n",
      "Epoch 9/30\n",
      "13061/13061 [==============================] - 2s 161us/sample - loss: 0.0065 - val_loss: 0.0109\n",
      "Epoch 10/30\n",
      "13061/13061 [==============================] - 2s 160us/sample - loss: 0.0062 - val_loss: 0.0111\n",
      "Epoch 11/30\n",
      "13061/13061 [==============================] - 2s 161us/sample - loss: 0.0066 - val_loss: 0.0105\n",
      "Epoch 12/30\n",
      "13061/13061 [==============================] - 2s 160us/sample - loss: 0.0063 - val_loss: 0.0106\n",
      "Epoch 13/30\n",
      "13061/13061 [==============================] - 2s 160us/sample - loss: 0.0065 - val_loss: 0.0106\n",
      "Epoch 14/30\n",
      "13061/13061 [==============================] - 2s 160us/sample - loss: 0.0064 - val_loss: 0.0109\n",
      "Epoch 15/30\n",
      "13061/13061 [==============================] - 2s 161us/sample - loss: 0.0061 - val_loss: 0.0102\n",
      "Epoch 16/30\n",
      "13061/13061 [==============================] - 2s 160us/sample - loss: 0.0065 - val_loss: 0.0107\n",
      "Epoch 17/30\n",
      "13061/13061 [==============================] - 2s 160us/sample - loss: 0.0062 - val_loss: 0.0108\n",
      "Epoch 18/30\n",
      "13061/13061 [==============================] - 2s 159us/sample - loss: 0.0065 - val_loss: 0.0110\n",
      "Epoch 19/30\n",
      "13061/13061 [==============================] - 2s 160us/sample - loss: 0.0065 - val_loss: 0.0109\n",
      "Epoch 20/30\n",
      "13061/13061 [==============================] - 2s 160us/sample - loss: 0.0064 - val_loss: 0.0104\n",
      "Epoch 21/30\n",
      "13061/13061 [==============================] - 2s 160us/sample - loss: 0.0064 - val_loss: 0.0102\n",
      "Epoch 22/30\n",
      "13061/13061 [==============================] - 2s 160us/sample - loss: 0.0063 - val_loss: 0.0107\n",
      "Epoch 23/30\n",
      "13061/13061 [==============================] - 2s 160us/sample - loss: 0.0062 - val_loss: 0.0105\n",
      "Epoch 24/30\n",
      "13061/13061 [==============================] - 2s 161us/sample - loss: 0.0059 - val_loss: 0.0103\n",
      "Epoch 25/30\n",
      "13061/13061 [==============================] - 2s 160us/sample - loss: 0.0060 - val_loss: 0.0102\n",
      "Epoch 26/30\n",
      "13061/13061 [==============================] - 2s 160us/sample - loss: 0.0065 - val_loss: 0.0109\n",
      "Epoch 27/30\n",
      "13061/13061 [==============================] - 2s 160us/sample - loss: 0.0059 - val_loss: 0.0113\n",
      "Epoch 28/30\n",
      "13061/13061 [==============================] - 2s 160us/sample - loss: 0.0060 - val_loss: 0.0107\n",
      "Epoch 29/30\n",
      "13061/13061 [==============================] - 2s 160us/sample - loss: 0.0060 - val_loss: 0.0103\n",
      "Epoch 30/30\n",
      "13061/13061 [==============================] - 2s 160us/sample - loss: 0.0059 - val_loss: 0.0105\n"
     ]
    }
   ],
   "source": [
    "comb_model.compile(optimizer='adam', loss='mse')\n",
    "\n",
    "history = comb_model.fit(x = [train_x_img_gray,train_x], y = train_y,batch_size = 64,epochs= 30,validation_split = 0.08,verbose=1)"
   ]
  },
  {
   "cell_type": "code",
   "execution_count": 74,
   "metadata": {},
   "outputs": [
    {
     "data": {
      "image/png": "[encoded data removed]",
      "text/plain": [
       "<Figure size 432x288 with 1 Axes>"
      ]
     },
     "metadata": {
      "needs_background": "light"
     },
     "output_type": "display_data"
    }
   ],
   "source": [
    "plot_model(history)"
   ]
  },
  {
   "cell_type": "code",
   "execution_count": 75,
   "metadata": {},
   "outputs": [
    {
     "name": "stdout",
     "output_type": "stream",
     "text": [
      "1069/1069 [==============================] - 0s 79us/sample - loss: 0.0132\n"
     ]
    },
    {
     "data": {
      "text/plain": [
       "0.013197349311245502"
      ]
     },
     "execution_count": 75,
     "metadata": {},
     "output_type": "execute_result"
    }
   ],
   "source": [
    "comb_model.evaluate([test_x_img_gray,test_x],test_y)"
   ]
  },
  {
   "cell_type": "code",
   "execution_count": 76,
   "metadata": {
    "scrolled": true
   },
   "outputs": [
    {
     "data": {
      "text/plain": [
       "1089     300000.0\n",
       "448      998000.0\n",
       "375     1150000.0\n",
       "6251     490000.0\n",
       "2919     999999.0\n",
       "Name: price, dtype: float64"
      ]
     },
     "execution_count": 76,
     "metadata": {},
     "output_type": "execute_result"
    }
   ],
   "source": [
    "test_y.iloc[[74,31,23,426,200]]*max_price"
   ]
  },
  {
   "cell_type": "code",
   "execution_count": 77,
   "metadata": {},
   "outputs": [
    {
     "data": {
      "text/plain": [
       "array([[ 410504.34],\n",
       "       [1170049.1 ],\n",
       "       [ 698328.75],\n",
       "       [ 504365.22],\n",
       "       [1062696.9 ]], dtype=float32)"
      ]
     },
     "execution_count": 77,
     "metadata": {},
     "output_type": "execute_result"
    }
   ],
   "source": [
    "comb_model.predict([test_x_img_gray,test_x])[[74,31,23,426,200]]*max_price"
   ]
  },
  {
   "cell_type": "code",
   "execution_count": 78,
   "metadata": {},
   "outputs": [
    {
     "data": {
      "text/plain": [
       "array([[ 321093.7 ],\n",
       "       [1033967.1 ],\n",
       "       [ 670869.75],\n",
       "       [ 542481.8 ],\n",
       "       [1146654.6 ]], dtype=float32)"
      ]
     },
     "execution_count": 78,
     "metadata": {},
     "output_type": "execute_result"
    }
   ],
   "source": [
    "model_1.predict(test_x)[[74,31,23,426,200]]*max_price"
   ]
  },
  {
   "cell_type": "code",
   "execution_count": null,
   "metadata": {},
   "outputs": [],
   "source": []
  },
  {
   "cell_type": "code",
   "execution_count": 79,
   "metadata": {},
   "outputs": [],
   "source": [
    "model_1.save_weights(\"best_model_weights(fc).h5\")\n",
    "model_1.save(\"best_model_MODEL(fc).h5\")"
   ]
  }
 ],
 "metadata": {
  "kernelspec": {
   "display_name": "Python 3",
   "language": "python",
   "name": "python3"
  },
  "language_info": {
   "codemirror_mode": {
    "name": "ipython",
    "version": 3
   },
   "file_extension": ".py",
   "mimetype": "text/x-python",
   "name": "python",
   "nbconvert_exporter": "python",
   "pygments_lexer": "ipython3",
   "version": "3.7.7"
  }
 },
 "nbformat": 4,
 "nbformat_minor": 4
}
